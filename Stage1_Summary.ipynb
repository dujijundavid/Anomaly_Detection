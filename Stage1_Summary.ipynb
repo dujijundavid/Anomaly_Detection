{
 "cells": [
  {
   "cell_type": "markdown",
   "id": "c51804c9",
   "metadata": {},
   "source": [
    "# Summary"
   ]
  },
  {
   "cell_type": "markdown",
   "id": "9722d62b",
   "metadata": {},
   "source": [
    "This notebook is about simple PoC of using basic statistics to detect anomaly. After this, I would incorporate Time Series / Machine learning / Deep learning on anomaly detection\n",
    "\n",
    "\n",
    "Overall Anomaly Detection \n",
    "\n",
    "- Goal: The AI/ML will detect the anomaly based on deviation in pattern of data from last 30 days\n",
    "- How it Works: There will be score given to the anomaly based on below attributes:\n",
    "    - The criticality of data\n",
    "        - Minor\n",
    "        - Major\n",
    "        - Critical\n",
    "    - Duration of anomaly\n",
    "    - Frequency of anomaly in last 30 days\n",
    "\t\n",
    "The Anomaly will be stored in MySQL/NoSQL database, with below details:\n",
    "- Anomaly id\n",
    "- Anomaly first occurrence\n",
    "- Anomaly Duration\n",
    "- Anomaly Status\n",
    "- Involved network parameters\n",
    "- Impacted Customers\n",
    "- Impacted machines\n"
   ]
  },
  {
   "cell_type": "markdown",
   "id": "a7586d45",
   "metadata": {},
   "source": [
    "## Preparation"
   ]
  },
  {
   "cell_type": "markdown",
   "id": "8e78eb71",
   "metadata": {},
   "source": [
    "### Connect Data"
   ]
  },
  {
   "cell_type": "code",
   "execution_count": 51,
   "id": "e050c3b0",
   "metadata": {
    "ExecuteTime": {
     "end_time": "2022-03-22T22:21:09.996878Z",
     "start_time": "2022-03-22T22:21:09.557345Z"
    }
   },
   "outputs": [
    {
     "name": "stdout",
     "output_type": "stream",
     "text": [
      "('BETAZRPDCOR001', datetime.datetime(2022, 3, 1, 14, 55, 27), 2, '0', 45751, 0, 0, 0, 0, 0, 0, 1, 2, 33.3333)\n",
      "('BETAZRPDCOR001', datetime.datetime(2022, 3, 1, 15, 16, 59), 2, '0', 45901, 0, 0, 0, 0, 0, 0, 1, 2, 33.3333)\n",
      "('BETAZRPDCOR001', datetime.datetime(2022, 3, 1, 15, 18, 1), 2, '0', 45901, 0, 0, 0, 0, 0, 0, 1, 2, 33.3333)\n",
      "('BETAZRPDCOR001', datetime.datetime(2022, 3, 1, 15, 24, 2), 2, '0', 45921, 0, 0, 0, 0, 0, 0, 1, 2, 33.3333)\n",
      "('BETAZRPDCOR001', datetime.datetime(2022, 3, 1, 15, 30, 2), 2, '0', 45940, 0, 0, 0, 0, 0, 0, 1, 2, 33.3333)\n"
     ]
    },
    {
     "data": {
      "text/html": [
       "<div>\n",
       "<style scoped>\n",
       "    .dataframe tbody tr th:only-of-type {\n",
       "        vertical-align: middle;\n",
       "    }\n",
       "\n",
       "    .dataframe tbody tr th {\n",
       "        vertical-align: top;\n",
       "    }\n",
       "\n",
       "    .dataframe thead th {\n",
       "        text-align: right;\n",
       "    }\n",
       "</style>\n",
       "<table border=\"1\" class=\"dataframe\">\n",
       "  <thead>\n",
       "    <tr style=\"text-align: right;\">\n",
       "      <th></th>\n",
       "      <th>client_id</th>\n",
       "      <th>stats_timestamp</th>\n",
       "      <th>total_attached_user</th>\n",
       "      <th>total_rejected_user</th>\n",
       "      <th>peak_upload_speed</th>\n",
       "      <th>peak_download_speed</th>\n",
       "      <th>enodeb_shutdown_count</th>\n",
       "      <th>handover_failure_count</th>\n",
       "      <th>bearer_active_user_count</th>\n",
       "      <th>bearer_rejected_user_count</th>\n",
       "      <th>total_users</th>\n",
       "      <th>total_dropped_packets</th>\n",
       "      <th>enodeb_connected_count</th>\n",
       "      <th>enodeb_connection_status</th>\n",
       "    </tr>\n",
       "  </thead>\n",
       "  <tbody>\n",
       "    <tr>\n",
       "      <th>0</th>\n",
       "      <td>BETAZRPDCOR001</td>\n",
       "      <td>2022-03-01 14:55:27</td>\n",
       "      <td>2</td>\n",
       "      <td>0</td>\n",
       "      <td>45751</td>\n",
       "      <td>0</td>\n",
       "      <td>0</td>\n",
       "      <td>0</td>\n",
       "      <td>0</td>\n",
       "      <td>0</td>\n",
       "      <td>0</td>\n",
       "      <td>1</td>\n",
       "      <td>2</td>\n",
       "      <td>33.3333</td>\n",
       "    </tr>\n",
       "    <tr>\n",
       "      <th>1</th>\n",
       "      <td>BETAZRPDCOR001</td>\n",
       "      <td>2022-03-01 15:16:59</td>\n",
       "      <td>2</td>\n",
       "      <td>0</td>\n",
       "      <td>45901</td>\n",
       "      <td>0</td>\n",
       "      <td>0</td>\n",
       "      <td>0</td>\n",
       "      <td>0</td>\n",
       "      <td>0</td>\n",
       "      <td>0</td>\n",
       "      <td>1</td>\n",
       "      <td>2</td>\n",
       "      <td>33.3333</td>\n",
       "    </tr>\n",
       "    <tr>\n",
       "      <th>2</th>\n",
       "      <td>BETAZRPDCOR001</td>\n",
       "      <td>2022-03-01 15:18:01</td>\n",
       "      <td>2</td>\n",
       "      <td>0</td>\n",
       "      <td>45901</td>\n",
       "      <td>0</td>\n",
       "      <td>0</td>\n",
       "      <td>0</td>\n",
       "      <td>0</td>\n",
       "      <td>0</td>\n",
       "      <td>0</td>\n",
       "      <td>1</td>\n",
       "      <td>2</td>\n",
       "      <td>33.3333</td>\n",
       "    </tr>\n",
       "    <tr>\n",
       "      <th>3</th>\n",
       "      <td>BETAZRPDCOR001</td>\n",
       "      <td>2022-03-01 15:24:02</td>\n",
       "      <td>2</td>\n",
       "      <td>0</td>\n",
       "      <td>45921</td>\n",
       "      <td>0</td>\n",
       "      <td>0</td>\n",
       "      <td>0</td>\n",
       "      <td>0</td>\n",
       "      <td>0</td>\n",
       "      <td>0</td>\n",
       "      <td>1</td>\n",
       "      <td>2</td>\n",
       "      <td>33.3333</td>\n",
       "    </tr>\n",
       "    <tr>\n",
       "      <th>4</th>\n",
       "      <td>BETAZRPDCOR001</td>\n",
       "      <td>2022-03-01 15:30:02</td>\n",
       "      <td>2</td>\n",
       "      <td>0</td>\n",
       "      <td>45940</td>\n",
       "      <td>0</td>\n",
       "      <td>0</td>\n",
       "      <td>0</td>\n",
       "      <td>0</td>\n",
       "      <td>0</td>\n",
       "      <td>0</td>\n",
       "      <td>1</td>\n",
       "      <td>2</td>\n",
       "      <td>33.3333</td>\n",
       "    </tr>\n",
       "  </tbody>\n",
       "</table>\n",
       "</div>"
      ],
      "text/plain": [
       "        client_id     stats_timestamp  total_attached_user  \\\n",
       "0  BETAZRPDCOR001 2022-03-01 14:55:27                    2   \n",
       "1  BETAZRPDCOR001 2022-03-01 15:16:59                    2   \n",
       "2  BETAZRPDCOR001 2022-03-01 15:18:01                    2   \n",
       "3  BETAZRPDCOR001 2022-03-01 15:24:02                    2   \n",
       "4  BETAZRPDCOR001 2022-03-01 15:30:02                    2   \n",
       "\n",
       "  total_rejected_user  peak_upload_speed  peak_download_speed  \\\n",
       "0                   0              45751                    0   \n",
       "1                   0              45901                    0   \n",
       "2                   0              45901                    0   \n",
       "3                   0              45921                    0   \n",
       "4                   0              45940                    0   \n",
       "\n",
       "   enodeb_shutdown_count  handover_failure_count  bearer_active_user_count  \\\n",
       "0                      0                       0                         0   \n",
       "1                      0                       0                         0   \n",
       "2                      0                       0                         0   \n",
       "3                      0                       0                         0   \n",
       "4                      0                       0                         0   \n",
       "\n",
       "   bearer_rejected_user_count  total_users  total_dropped_packets  \\\n",
       "0                           0            0                      1   \n",
       "1                           0            0                      1   \n",
       "2                           0            0                      1   \n",
       "3                           0            0                      1   \n",
       "4                           0            0                      1   \n",
       "\n",
       "   enodeb_connected_count  enodeb_connection_status  \n",
       "0                       2                   33.3333  \n",
       "1                       2                   33.3333  \n",
       "2                       2                   33.3333  \n",
       "3                       2                   33.3333  \n",
       "4                       2                   33.3333  "
      ]
     },
     "execution_count": 51,
     "metadata": {},
     "output_type": "execute_result"
    }
   ],
   "source": [
    "import numpy as np\n",
    "import mysql.connector\n",
    "import pandas as pd\n",
    "from pandas_profiling import ProfileReport\n",
    "\n",
    "# Initiate with Parameters\n",
    "db_name= \"core_stats\"\n",
    "col = \"peak_upload_speed\"\n",
    "\n",
    "\n",
    "# Start Database Connection\n",
    "db_connection = mysql.connector.connect(\n",
    "    host=\"20.94.254.6\",\n",
    "    user=\"gyan\",\n",
    "    password=\"5Gaa$2022\",\n",
    "    database=\"gyan_db\"\n",
    ")\n",
    "\n",
    "# Create Database Cursor for SQL Queries\n",
    "mycursor = db_connection.cursor()\n",
    "mycursor.execute(\"SELECT * FROM {} LIMIT 5\".format(db_name))\n",
    "\n",
    "myresult = mycursor.fetchall()\n",
    "for x in myresult:\n",
    "    print(x)\n",
    "\n",
    "# Load data from database and store as pandas Dataframe\n",
    "df = pd.read_sql('SELECT * FROM {}'.format(db_name), con=db_connection)\n",
    "df.head()"
   ]
  },
  {
   "cell_type": "markdown",
   "id": "4507d55b",
   "metadata": {},
   "source": [
    "\n",
    "### Data Cleaning"
   ]
  },
  {
   "cell_type": "code",
   "execution_count": 52,
   "id": "fbb3ac6d",
   "metadata": {
    "ExecuteTime": {
     "end_time": "2022-03-22T22:21:10.259394Z",
     "start_time": "2022-03-22T22:21:10.192728Z"
    }
   },
   "outputs": [],
   "source": [
    "# Load functions from Jupyter notebook, Could change to .py as Well\n",
    "%run helper_functions.ipynb"
   ]
  },
  {
   "cell_type": "code",
   "execution_count": 53,
   "id": "8f0ae4a7",
   "metadata": {
    "ExecuteTime": {
     "end_time": "2022-03-22T22:21:10.569953Z",
     "start_time": "2022-03-22T22:21:10.512059Z"
    }
   },
   "outputs": [
    {
     "data": {
      "text/html": [
       "<div>\n",
       "<style scoped>\n",
       "    .dataframe tbody tr th:only-of-type {\n",
       "        vertical-align: middle;\n",
       "    }\n",
       "\n",
       "    .dataframe tbody tr th {\n",
       "        vertical-align: top;\n",
       "    }\n",
       "\n",
       "    .dataframe thead th {\n",
       "        text-align: right;\n",
       "    }\n",
       "</style>\n",
       "<table border=\"1\" class=\"dataframe\">\n",
       "  <thead>\n",
       "    <tr style=\"text-align: right;\">\n",
       "      <th></th>\n",
       "      <th>Columns_Name</th>\n",
       "      <th>missing_rate</th>\n",
       "      <th>unique_count</th>\n",
       "    </tr>\n",
       "  </thead>\n",
       "  <tbody>\n",
       "    <tr>\n",
       "      <th>0</th>\n",
       "      <td>client_id</td>\n",
       "      <td>0.0</td>\n",
       "      <td>2</td>\n",
       "    </tr>\n",
       "    <tr>\n",
       "      <th>1</th>\n",
       "      <td>stats_timestamp</td>\n",
       "      <td>0.0</td>\n",
       "      <td>5739</td>\n",
       "    </tr>\n",
       "    <tr>\n",
       "      <th>2</th>\n",
       "      <td>total_attached_user</td>\n",
       "      <td>0.0</td>\n",
       "      <td>4</td>\n",
       "    </tr>\n",
       "    <tr>\n",
       "      <th>3</th>\n",
       "      <td>total_rejected_user</td>\n",
       "      <td>0.0</td>\n",
       "      <td>1</td>\n",
       "    </tr>\n",
       "    <tr>\n",
       "      <th>4</th>\n",
       "      <td>peak_upload_speed</td>\n",
       "      <td>0.0</td>\n",
       "      <td>1450</td>\n",
       "    </tr>\n",
       "    <tr>\n",
       "      <th>5</th>\n",
       "      <td>peak_download_speed</td>\n",
       "      <td>0.0</td>\n",
       "      <td>1</td>\n",
       "    </tr>\n",
       "    <tr>\n",
       "      <th>6</th>\n",
       "      <td>enodeb_shutdown_count</td>\n",
       "      <td>0.0</td>\n",
       "      <td>1</td>\n",
       "    </tr>\n",
       "    <tr>\n",
       "      <th>7</th>\n",
       "      <td>handover_failure_count</td>\n",
       "      <td>0.0</td>\n",
       "      <td>6</td>\n",
       "    </tr>\n",
       "    <tr>\n",
       "      <th>8</th>\n",
       "      <td>bearer_active_user_count</td>\n",
       "      <td>0.0</td>\n",
       "      <td>9</td>\n",
       "    </tr>\n",
       "    <tr>\n",
       "      <th>9</th>\n",
       "      <td>bearer_rejected_user_count</td>\n",
       "      <td>0.0</td>\n",
       "      <td>1</td>\n",
       "    </tr>\n",
       "    <tr>\n",
       "      <th>10</th>\n",
       "      <td>total_users</td>\n",
       "      <td>0.0</td>\n",
       "      <td>3</td>\n",
       "    </tr>\n",
       "    <tr>\n",
       "      <th>11</th>\n",
       "      <td>total_dropped_packets</td>\n",
       "      <td>0.0</td>\n",
       "      <td>2</td>\n",
       "    </tr>\n",
       "    <tr>\n",
       "      <th>12</th>\n",
       "      <td>enodeb_connected_count</td>\n",
       "      <td>0.0</td>\n",
       "      <td>2</td>\n",
       "    </tr>\n",
       "    <tr>\n",
       "      <th>13</th>\n",
       "      <td>enodeb_connection_status</td>\n",
       "      <td>0.0</td>\n",
       "      <td>2</td>\n",
       "    </tr>\n",
       "  </tbody>\n",
       "</table>\n",
       "</div>"
      ],
      "text/plain": [
       "                  Columns_Name  missing_rate  unique_count\n",
       "0                    client_id           0.0             2\n",
       "1              stats_timestamp           0.0          5739\n",
       "2          total_attached_user           0.0             4\n",
       "3          total_rejected_user           0.0             1\n",
       "4            peak_upload_speed           0.0          1450\n",
       "5          peak_download_speed           0.0             1\n",
       "6        enodeb_shutdown_count           0.0             1\n",
       "7       handover_failure_count           0.0             6\n",
       "8     bearer_active_user_count           0.0             9\n",
       "9   bearer_rejected_user_count           0.0             1\n",
       "10                 total_users           0.0             3\n",
       "11       total_dropped_packets           0.0             2\n",
       "12      enodeb_connected_count           0.0             2\n",
       "13    enodeb_connection_status           0.0             2"
      ]
     },
     "execution_count": 53,
     "metadata": {},
     "output_type": "execute_result"
    }
   ],
   "source": [
    "getSummaryTable(df)"
   ]
  },
  {
   "cell_type": "code",
   "execution_count": 54,
   "id": "26511a14",
   "metadata": {
    "ExecuteTime": {
     "end_time": "2022-03-22T22:21:10.820422Z",
     "start_time": "2022-03-22T22:21:10.796651Z"
    }
   },
   "outputs": [],
   "source": [
    "Summary_table= getSummaryTable(df,True)"
   ]
  },
  {
   "cell_type": "code",
   "execution_count": 55,
   "id": "c596499c",
   "metadata": {
    "ExecuteTime": {
     "end_time": "2022-03-22T22:21:11.100750Z",
     "start_time": "2022-03-22T22:21:11.063600Z"
    }
   },
   "outputs": [
    {
     "name": "stdout",
     "output_type": "stream",
     "text": [
      "Pair 0 :  peak_download_speed  |  enodeb_shutdown_count\n",
      "Pair 1 :  peak_download_speed  |  bearer_rejected_user_count\n",
      "Pair 2 :  enodeb_shutdown_count  |  bearer_rejected_user_count\n"
     ]
    },
    {
     "data": {
      "text/plain": [
       "['enodeb_shutdown_count', 'bearer_rejected_user_count']"
      ]
     },
     "execution_count": 55,
     "metadata": {},
     "output_type": "execute_result"
    }
   ],
   "source": [
    "getDuplicateColumns(df)"
   ]
  },
  {
   "cell_type": "code",
   "execution_count": 56,
   "id": "1ba620e0",
   "metadata": {
    "ExecuteTime": {
     "end_time": "2022-03-22T22:21:11.319723Z",
     "start_time": "2022-03-22T22:21:11.311372Z"
    }
   },
   "outputs": [],
   "source": [
    "temp=df"
   ]
  },
  {
   "cell_type": "markdown",
   "id": "46a935f6",
   "metadata": {},
   "source": [
    "# Phrase 1 - Starter Anomaly Detector"
   ]
  },
  {
   "cell_type": "markdown",
   "id": "da4cf5ea",
   "metadata": {},
   "source": [
    "**How it Works?**\n",
    "1. Summarize first, forecast later. \n",
    "    - Exaplin how a metric is identified as anomaly data point comparing to last 30 days.\n",
    "\n",
    "2. Anomaly Detector Category\n",
    "    - Statistical (Outlier, Z-score)\n",
    "    - Time Series (Prophet, Arima | Kalman Filter)\n",
    "    - Machine Learning (Clustering, Classification: Isolation Forest |)\n",
    "    - Deep Learning (LSTM, Autoencoder | Clockwork RNN, Depth Gated RNN)\n",
    "\n",
    "\n",
    "**How it's different from the Final Product**\n",
    "1. No enough data. \n",
    "    - As for adjustments, I'll use moving window 7 days instead of 30 days for PoC.\n",
    "    - e.g. What data are anomlies comparing to historical 7 (30) days\n",
    "    \n",
    "\n",
    "2. No enough column.\n",
    "    - We simply want to focus on the most important column first. \n",
    "    - However, the function is designed to apply to more columns in type aspect.\n",
    "    \n",
    "    \n",
    "3. Not Focusing on Quality, but automated process.\n",
    "\n",
    "4. Individual labels or Scores instead of an Overall Score.\n",
    "\n",
    "5. Keep comparison with Exiting 3rd Party Anomaly Detection tools like Anodot.\n"
   ]
  },
  {
   "cell_type": "markdown",
   "id": "e59cffdc",
   "metadata": {},
   "source": [
    "## Stats Calculations\n",
    "\n",
    "- Mean\n",
    "- Median\n",
    "- IQR\n",
    "- Outlier:     x> Q3+1.5IQR or x < Q1-1.5IQR \n",
    "\n",
    "\n",
    "**Business Explanation** \n",
    "Big jump are going on going down on upload or download speed.\n",
    "We can identify there's a big jump in the \n",
    "\n",
    "WHen the jump happends, we send an alert.\n",
    "\n",
    "\n",
    "**Column of interest:**  \n",
    "- Peak download speed"
   ]
  },
  {
   "cell_type": "markdown",
   "id": "83d5d995",
   "metadata": {},
   "source": [
    "### Basic Summary Stats"
   ]
  },
  {
   "cell_type": "code",
   "execution_count": 57,
   "id": "1655d669",
   "metadata": {
    "ExecuteTime": {
     "end_time": "2022-03-22T22:21:12.531781Z",
     "start_time": "2022-03-22T22:21:12.497994Z"
    }
   },
   "outputs": [
    {
     "data": {
      "text/plain": [
       "count      5739.000000\n",
       "mean      61499.402858\n",
       "std       15739.465869\n",
       "min          34.000000\n",
       "25%       55583.000000\n",
       "50%       69499.000000\n",
       "75%       72702.000000\n",
       "max      261251.000000\n",
       "Name: peak_upload_speed, dtype: float64"
      ]
     },
     "execution_count": 57,
     "metadata": {},
     "output_type": "execute_result"
    }
   ],
   "source": [
    "col= \"peak_upload_speed\"\n",
    "\n",
    "df[col].describe()"
   ]
  },
  {
   "cell_type": "markdown",
   "id": "5999ddc0",
   "metadata": {},
   "source": [
    "### Z - Score\n",
    "\n",
    "- Function Details\n",
    "    - Input: dataframe, one column\n",
    "    - Output:\n",
    "        - One Score Column\n",
    "            - e.g. Z-score (negative 3 to 3 )-> Adjusted Z-score ( 0~1)\n",
    "        - One Label Column\n",
    "        \n",
    "    "
   ]
  },
  {
   "cell_type": "code",
   "execution_count": 58,
   "id": "02bc97a4",
   "metadata": {
    "ExecuteTime": {
     "end_time": "2022-03-22T22:21:13.028987Z",
     "start_time": "2022-03-22T22:21:12.941050Z"
    }
   },
   "outputs": [
    {
     "data": {
      "text/html": [
       "<div>\n",
       "<style scoped>\n",
       "    .dataframe tbody tr th:only-of-type {\n",
       "        vertical-align: middle;\n",
       "    }\n",
       "\n",
       "    .dataframe tbody tr th {\n",
       "        vertical-align: top;\n",
       "    }\n",
       "\n",
       "    .dataframe thead th {\n",
       "        text-align: right;\n",
       "    }\n",
       "</style>\n",
       "<table border=\"1\" class=\"dataframe\">\n",
       "  <thead>\n",
       "    <tr style=\"text-align: right;\">\n",
       "      <th></th>\n",
       "      <th>client_id</th>\n",
       "      <th>stats_timestamp</th>\n",
       "      <th>total_attached_user</th>\n",
       "      <th>total_rejected_user</th>\n",
       "      <th>peak_upload_speed</th>\n",
       "      <th>peak_download_speed</th>\n",
       "      <th>enodeb_shutdown_count</th>\n",
       "      <th>handover_failure_count</th>\n",
       "      <th>bearer_active_user_count</th>\n",
       "      <th>bearer_rejected_user_count</th>\n",
       "      <th>total_users</th>\n",
       "      <th>total_dropped_packets</th>\n",
       "      <th>enodeb_connected_count</th>\n",
       "      <th>enodeb_connection_status</th>\n",
       "      <th>Z-score_peak_upload_speed</th>\n",
       "      <th>label_Z-score_peak_upload_speed</th>\n",
       "    </tr>\n",
       "  </thead>\n",
       "  <tbody>\n",
       "    <tr>\n",
       "      <th>0</th>\n",
       "      <td>BETAZRPDCOR001</td>\n",
       "      <td>2022-03-01 14:55:27</td>\n",
       "      <td>2</td>\n",
       "      <td>0</td>\n",
       "      <td>45751</td>\n",
       "      <td>0</td>\n",
       "      <td>0</td>\n",
       "      <td>0</td>\n",
       "      <td>0</td>\n",
       "      <td>0</td>\n",
       "      <td>0</td>\n",
       "      <td>1</td>\n",
       "      <td>2</td>\n",
       "      <td>33.3333</td>\n",
       "      <td>-1.00</td>\n",
       "      <td>0</td>\n",
       "    </tr>\n",
       "    <tr>\n",
       "      <th>1</th>\n",
       "      <td>BETAZRPDCOR001</td>\n",
       "      <td>2022-03-01 15:16:59</td>\n",
       "      <td>2</td>\n",
       "      <td>0</td>\n",
       "      <td>45901</td>\n",
       "      <td>0</td>\n",
       "      <td>0</td>\n",
       "      <td>0</td>\n",
       "      <td>0</td>\n",
       "      <td>0</td>\n",
       "      <td>0</td>\n",
       "      <td>1</td>\n",
       "      <td>2</td>\n",
       "      <td>33.3333</td>\n",
       "      <td>-0.99</td>\n",
       "      <td>0</td>\n",
       "    </tr>\n",
       "    <tr>\n",
       "      <th>2</th>\n",
       "      <td>BETAZRPDCOR001</td>\n",
       "      <td>2022-03-01 15:18:01</td>\n",
       "      <td>2</td>\n",
       "      <td>0</td>\n",
       "      <td>45901</td>\n",
       "      <td>0</td>\n",
       "      <td>0</td>\n",
       "      <td>0</td>\n",
       "      <td>0</td>\n",
       "      <td>0</td>\n",
       "      <td>0</td>\n",
       "      <td>1</td>\n",
       "      <td>2</td>\n",
       "      <td>33.3333</td>\n",
       "      <td>-0.99</td>\n",
       "      <td>0</td>\n",
       "    </tr>\n",
       "    <tr>\n",
       "      <th>3</th>\n",
       "      <td>BETAZRPDCOR001</td>\n",
       "      <td>2022-03-01 15:24:02</td>\n",
       "      <td>2</td>\n",
       "      <td>0</td>\n",
       "      <td>45921</td>\n",
       "      <td>0</td>\n",
       "      <td>0</td>\n",
       "      <td>0</td>\n",
       "      <td>0</td>\n",
       "      <td>0</td>\n",
       "      <td>0</td>\n",
       "      <td>1</td>\n",
       "      <td>2</td>\n",
       "      <td>33.3333</td>\n",
       "      <td>-0.99</td>\n",
       "      <td>0</td>\n",
       "    </tr>\n",
       "    <tr>\n",
       "      <th>4</th>\n",
       "      <td>BETAZRPDCOR001</td>\n",
       "      <td>2022-03-01 15:30:02</td>\n",
       "      <td>2</td>\n",
       "      <td>0</td>\n",
       "      <td>45940</td>\n",
       "      <td>0</td>\n",
       "      <td>0</td>\n",
       "      <td>0</td>\n",
       "      <td>0</td>\n",
       "      <td>0</td>\n",
       "      <td>0</td>\n",
       "      <td>1</td>\n",
       "      <td>2</td>\n",
       "      <td>33.3333</td>\n",
       "      <td>-0.99</td>\n",
       "      <td>0</td>\n",
       "    </tr>\n",
       "    <tr>\n",
       "      <th>...</th>\n",
       "      <td>...</td>\n",
       "      <td>...</td>\n",
       "      <td>...</td>\n",
       "      <td>...</td>\n",
       "      <td>...</td>\n",
       "      <td>...</td>\n",
       "      <td>...</td>\n",
       "      <td>...</td>\n",
       "      <td>...</td>\n",
       "      <td>...</td>\n",
       "      <td>...</td>\n",
       "      <td>...</td>\n",
       "      <td>...</td>\n",
       "      <td>...</td>\n",
       "      <td>...</td>\n",
       "      <td>...</td>\n",
       "    </tr>\n",
       "    <tr>\n",
       "      <th>5734</th>\n",
       "      <td>BETBELPDCOR001</td>\n",
       "      <td>2022-03-22 15:00:03</td>\n",
       "      <td>0</td>\n",
       "      <td>0</td>\n",
       "      <td>44221</td>\n",
       "      <td>0</td>\n",
       "      <td>0</td>\n",
       "      <td>0</td>\n",
       "      <td>0</td>\n",
       "      <td>0</td>\n",
       "      <td>0</td>\n",
       "      <td>0</td>\n",
       "      <td>3</td>\n",
       "      <td>0.0000</td>\n",
       "      <td>-1.10</td>\n",
       "      <td>0</td>\n",
       "    </tr>\n",
       "    <tr>\n",
       "      <th>5735</th>\n",
       "      <td>BETBELPDCOR001</td>\n",
       "      <td>2022-03-22 15:05:03</td>\n",
       "      <td>0</td>\n",
       "      <td>0</td>\n",
       "      <td>72702</td>\n",
       "      <td>0</td>\n",
       "      <td>0</td>\n",
       "      <td>0</td>\n",
       "      <td>0</td>\n",
       "      <td>0</td>\n",
       "      <td>0</td>\n",
       "      <td>0</td>\n",
       "      <td>3</td>\n",
       "      <td>0.0000</td>\n",
       "      <td>0.71</td>\n",
       "      <td>0</td>\n",
       "    </tr>\n",
       "    <tr>\n",
       "      <th>5736</th>\n",
       "      <td>BETBELPDCOR001</td>\n",
       "      <td>2022-03-22 15:10:03</td>\n",
       "      <td>0</td>\n",
       "      <td>0</td>\n",
       "      <td>72702</td>\n",
       "      <td>0</td>\n",
       "      <td>0</td>\n",
       "      <td>0</td>\n",
       "      <td>0</td>\n",
       "      <td>0</td>\n",
       "      <td>0</td>\n",
       "      <td>0</td>\n",
       "      <td>3</td>\n",
       "      <td>0.0000</td>\n",
       "      <td>0.71</td>\n",
       "      <td>0</td>\n",
       "    </tr>\n",
       "    <tr>\n",
       "      <th>5737</th>\n",
       "      <td>BETBELPDCOR001</td>\n",
       "      <td>2022-03-22 15:15:03</td>\n",
       "      <td>0</td>\n",
       "      <td>0</td>\n",
       "      <td>72702</td>\n",
       "      <td>0</td>\n",
       "      <td>0</td>\n",
       "      <td>0</td>\n",
       "      <td>0</td>\n",
       "      <td>0</td>\n",
       "      <td>0</td>\n",
       "      <td>0</td>\n",
       "      <td>3</td>\n",
       "      <td>0.0000</td>\n",
       "      <td>0.71</td>\n",
       "      <td>0</td>\n",
       "    </tr>\n",
       "    <tr>\n",
       "      <th>5738</th>\n",
       "      <td>BETBELPDCOR001</td>\n",
       "      <td>2022-03-22 15:20:02</td>\n",
       "      <td>0</td>\n",
       "      <td>0</td>\n",
       "      <td>2723</td>\n",
       "      <td>0</td>\n",
       "      <td>0</td>\n",
       "      <td>0</td>\n",
       "      <td>0</td>\n",
       "      <td>0</td>\n",
       "      <td>0</td>\n",
       "      <td>0</td>\n",
       "      <td>3</td>\n",
       "      <td>0.0000</td>\n",
       "      <td>-3.73</td>\n",
       "      <td>1</td>\n",
       "    </tr>\n",
       "  </tbody>\n",
       "</table>\n",
       "<p>5739 rows × 16 columns</p>\n",
       "</div>"
      ],
      "text/plain": [
       "           client_id     stats_timestamp  total_attached_user  \\\n",
       "0     BETAZRPDCOR001 2022-03-01 14:55:27                    2   \n",
       "1     BETAZRPDCOR001 2022-03-01 15:16:59                    2   \n",
       "2     BETAZRPDCOR001 2022-03-01 15:18:01                    2   \n",
       "3     BETAZRPDCOR001 2022-03-01 15:24:02                    2   \n",
       "4     BETAZRPDCOR001 2022-03-01 15:30:02                    2   \n",
       "...              ...                 ...                  ...   \n",
       "5734  BETBELPDCOR001 2022-03-22 15:00:03                    0   \n",
       "5735  BETBELPDCOR001 2022-03-22 15:05:03                    0   \n",
       "5736  BETBELPDCOR001 2022-03-22 15:10:03                    0   \n",
       "5737  BETBELPDCOR001 2022-03-22 15:15:03                    0   \n",
       "5738  BETBELPDCOR001 2022-03-22 15:20:02                    0   \n",
       "\n",
       "     total_rejected_user  peak_upload_speed  peak_download_speed  \\\n",
       "0                      0              45751                    0   \n",
       "1                      0              45901                    0   \n",
       "2                      0              45901                    0   \n",
       "3                      0              45921                    0   \n",
       "4                      0              45940                    0   \n",
       "...                  ...                ...                  ...   \n",
       "5734                   0              44221                    0   \n",
       "5735                   0              72702                    0   \n",
       "5736                   0              72702                    0   \n",
       "5737                   0              72702                    0   \n",
       "5738                   0               2723                    0   \n",
       "\n",
       "      enodeb_shutdown_count  handover_failure_count  bearer_active_user_count  \\\n",
       "0                         0                       0                         0   \n",
       "1                         0                       0                         0   \n",
       "2                         0                       0                         0   \n",
       "3                         0                       0                         0   \n",
       "4                         0                       0                         0   \n",
       "...                     ...                     ...                       ...   \n",
       "5734                      0                       0                         0   \n",
       "5735                      0                       0                         0   \n",
       "5736                      0                       0                         0   \n",
       "5737                      0                       0                         0   \n",
       "5738                      0                       0                         0   \n",
       "\n",
       "      bearer_rejected_user_count  total_users  total_dropped_packets  \\\n",
       "0                              0            0                      1   \n",
       "1                              0            0                      1   \n",
       "2                              0            0                      1   \n",
       "3                              0            0                      1   \n",
       "4                              0            0                      1   \n",
       "...                          ...          ...                    ...   \n",
       "5734                           0            0                      0   \n",
       "5735                           0            0                      0   \n",
       "5736                           0            0                      0   \n",
       "5737                           0            0                      0   \n",
       "5738                           0            0                      0   \n",
       "\n",
       "      enodeb_connected_count  enodeb_connection_status  \\\n",
       "0                          2                   33.3333   \n",
       "1                          2                   33.3333   \n",
       "2                          2                   33.3333   \n",
       "3                          2                   33.3333   \n",
       "4                          2                   33.3333   \n",
       "...                      ...                       ...   \n",
       "5734                       3                    0.0000   \n",
       "5735                       3                    0.0000   \n",
       "5736                       3                    0.0000   \n",
       "5737                       3                    0.0000   \n",
       "5738                       3                    0.0000   \n",
       "\n",
       "      Z-score_peak_upload_speed  label_Z-score_peak_upload_speed  \n",
       "0                         -1.00                                0  \n",
       "1                         -0.99                                0  \n",
       "2                         -0.99                                0  \n",
       "3                         -0.99                                0  \n",
       "4                         -0.99                                0  \n",
       "...                         ...                              ...  \n",
       "5734                      -1.10                                0  \n",
       "5735                       0.71                                0  \n",
       "5736                       0.71                                0  \n",
       "5737                       0.71                                0  \n",
       "5738                      -3.73                                1  \n",
       "\n",
       "[5739 rows x 16 columns]"
      ]
     },
     "execution_count": 58,
     "metadata": {},
     "output_type": "execute_result"
    }
   ],
   "source": [
    "add_Z_score_column(df,col)"
   ]
  },
  {
   "cell_type": "markdown",
   "id": "9eb5a024",
   "metadata": {},
   "source": [
    "### Outlier"
   ]
  },
  {
   "cell_type": "code",
   "execution_count": 59,
   "id": "6161aaa4",
   "metadata": {
    "ExecuteTime": {
     "end_time": "2022-03-22T22:21:13.371723Z",
     "start_time": "2022-03-22T22:21:13.333739Z"
    }
   },
   "outputs": [
    {
     "data": {
      "text/html": [
       "<div>\n",
       "<style scoped>\n",
       "    .dataframe tbody tr th:only-of-type {\n",
       "        vertical-align: middle;\n",
       "    }\n",
       "\n",
       "    .dataframe tbody tr th {\n",
       "        vertical-align: top;\n",
       "    }\n",
       "\n",
       "    .dataframe thead th {\n",
       "        text-align: right;\n",
       "    }\n",
       "</style>\n",
       "<table border=\"1\" class=\"dataframe\">\n",
       "  <thead>\n",
       "    <tr style=\"text-align: right;\">\n",
       "      <th></th>\n",
       "      <th>client_id</th>\n",
       "      <th>stats_timestamp</th>\n",
       "      <th>total_attached_user</th>\n",
       "      <th>total_rejected_user</th>\n",
       "      <th>peak_upload_speed</th>\n",
       "      <th>peak_download_speed</th>\n",
       "      <th>enodeb_shutdown_count</th>\n",
       "      <th>handover_failure_count</th>\n",
       "      <th>bearer_active_user_count</th>\n",
       "      <th>bearer_rejected_user_count</th>\n",
       "      <th>total_users</th>\n",
       "      <th>total_dropped_packets</th>\n",
       "      <th>enodeb_connected_count</th>\n",
       "      <th>enodeb_connection_status</th>\n",
       "      <th>Z-score_peak_upload_speed</th>\n",
       "      <th>label_Z-score_peak_upload_speed</th>\n",
       "      <th>label_outlier_peak_upload_speed</th>\n",
       "    </tr>\n",
       "  </thead>\n",
       "  <tbody>\n",
       "    <tr>\n",
       "      <th>0</th>\n",
       "      <td>BETAZRPDCOR001</td>\n",
       "      <td>2022-03-01 14:55:27</td>\n",
       "      <td>2</td>\n",
       "      <td>0</td>\n",
       "      <td>45751</td>\n",
       "      <td>0</td>\n",
       "      <td>0</td>\n",
       "      <td>0</td>\n",
       "      <td>0</td>\n",
       "      <td>0</td>\n",
       "      <td>0</td>\n",
       "      <td>1</td>\n",
       "      <td>2</td>\n",
       "      <td>33.3333</td>\n",
       "      <td>-1.00</td>\n",
       "      <td>0</td>\n",
       "      <td>0</td>\n",
       "    </tr>\n",
       "    <tr>\n",
       "      <th>1</th>\n",
       "      <td>BETAZRPDCOR001</td>\n",
       "      <td>2022-03-01 15:16:59</td>\n",
       "      <td>2</td>\n",
       "      <td>0</td>\n",
       "      <td>45901</td>\n",
       "      <td>0</td>\n",
       "      <td>0</td>\n",
       "      <td>0</td>\n",
       "      <td>0</td>\n",
       "      <td>0</td>\n",
       "      <td>0</td>\n",
       "      <td>1</td>\n",
       "      <td>2</td>\n",
       "      <td>33.3333</td>\n",
       "      <td>-0.99</td>\n",
       "      <td>0</td>\n",
       "      <td>0</td>\n",
       "    </tr>\n",
       "    <tr>\n",
       "      <th>2</th>\n",
       "      <td>BETAZRPDCOR001</td>\n",
       "      <td>2022-03-01 15:18:01</td>\n",
       "      <td>2</td>\n",
       "      <td>0</td>\n",
       "      <td>45901</td>\n",
       "      <td>0</td>\n",
       "      <td>0</td>\n",
       "      <td>0</td>\n",
       "      <td>0</td>\n",
       "      <td>0</td>\n",
       "      <td>0</td>\n",
       "      <td>1</td>\n",
       "      <td>2</td>\n",
       "      <td>33.3333</td>\n",
       "      <td>-0.99</td>\n",
       "      <td>0</td>\n",
       "      <td>0</td>\n",
       "    </tr>\n",
       "    <tr>\n",
       "      <th>3</th>\n",
       "      <td>BETAZRPDCOR001</td>\n",
       "      <td>2022-03-01 15:24:02</td>\n",
       "      <td>2</td>\n",
       "      <td>0</td>\n",
       "      <td>45921</td>\n",
       "      <td>0</td>\n",
       "      <td>0</td>\n",
       "      <td>0</td>\n",
       "      <td>0</td>\n",
       "      <td>0</td>\n",
       "      <td>0</td>\n",
       "      <td>1</td>\n",
       "      <td>2</td>\n",
       "      <td>33.3333</td>\n",
       "      <td>-0.99</td>\n",
       "      <td>0</td>\n",
       "      <td>0</td>\n",
       "    </tr>\n",
       "    <tr>\n",
       "      <th>4</th>\n",
       "      <td>BETAZRPDCOR001</td>\n",
       "      <td>2022-03-01 15:30:02</td>\n",
       "      <td>2</td>\n",
       "      <td>0</td>\n",
       "      <td>45940</td>\n",
       "      <td>0</td>\n",
       "      <td>0</td>\n",
       "      <td>0</td>\n",
       "      <td>0</td>\n",
       "      <td>0</td>\n",
       "      <td>0</td>\n",
       "      <td>1</td>\n",
       "      <td>2</td>\n",
       "      <td>33.3333</td>\n",
       "      <td>-0.99</td>\n",
       "      <td>0</td>\n",
       "      <td>0</td>\n",
       "    </tr>\n",
       "    <tr>\n",
       "      <th>...</th>\n",
       "      <td>...</td>\n",
       "      <td>...</td>\n",
       "      <td>...</td>\n",
       "      <td>...</td>\n",
       "      <td>...</td>\n",
       "      <td>...</td>\n",
       "      <td>...</td>\n",
       "      <td>...</td>\n",
       "      <td>...</td>\n",
       "      <td>...</td>\n",
       "      <td>...</td>\n",
       "      <td>...</td>\n",
       "      <td>...</td>\n",
       "      <td>...</td>\n",
       "      <td>...</td>\n",
       "      <td>...</td>\n",
       "      <td>...</td>\n",
       "    </tr>\n",
       "    <tr>\n",
       "      <th>5734</th>\n",
       "      <td>BETBELPDCOR001</td>\n",
       "      <td>2022-03-22 15:00:03</td>\n",
       "      <td>0</td>\n",
       "      <td>0</td>\n",
       "      <td>44221</td>\n",
       "      <td>0</td>\n",
       "      <td>0</td>\n",
       "      <td>0</td>\n",
       "      <td>0</td>\n",
       "      <td>0</td>\n",
       "      <td>0</td>\n",
       "      <td>0</td>\n",
       "      <td>3</td>\n",
       "      <td>0.0000</td>\n",
       "      <td>-1.10</td>\n",
       "      <td>0</td>\n",
       "      <td>0</td>\n",
       "    </tr>\n",
       "    <tr>\n",
       "      <th>5735</th>\n",
       "      <td>BETBELPDCOR001</td>\n",
       "      <td>2022-03-22 15:05:03</td>\n",
       "      <td>0</td>\n",
       "      <td>0</td>\n",
       "      <td>72702</td>\n",
       "      <td>0</td>\n",
       "      <td>0</td>\n",
       "      <td>0</td>\n",
       "      <td>0</td>\n",
       "      <td>0</td>\n",
       "      <td>0</td>\n",
       "      <td>0</td>\n",
       "      <td>3</td>\n",
       "      <td>0.0000</td>\n",
       "      <td>0.71</td>\n",
       "      <td>0</td>\n",
       "      <td>0</td>\n",
       "    </tr>\n",
       "    <tr>\n",
       "      <th>5736</th>\n",
       "      <td>BETBELPDCOR001</td>\n",
       "      <td>2022-03-22 15:10:03</td>\n",
       "      <td>0</td>\n",
       "      <td>0</td>\n",
       "      <td>72702</td>\n",
       "      <td>0</td>\n",
       "      <td>0</td>\n",
       "      <td>0</td>\n",
       "      <td>0</td>\n",
       "      <td>0</td>\n",
       "      <td>0</td>\n",
       "      <td>0</td>\n",
       "      <td>3</td>\n",
       "      <td>0.0000</td>\n",
       "      <td>0.71</td>\n",
       "      <td>0</td>\n",
       "      <td>0</td>\n",
       "    </tr>\n",
       "    <tr>\n",
       "      <th>5737</th>\n",
       "      <td>BETBELPDCOR001</td>\n",
       "      <td>2022-03-22 15:15:03</td>\n",
       "      <td>0</td>\n",
       "      <td>0</td>\n",
       "      <td>72702</td>\n",
       "      <td>0</td>\n",
       "      <td>0</td>\n",
       "      <td>0</td>\n",
       "      <td>0</td>\n",
       "      <td>0</td>\n",
       "      <td>0</td>\n",
       "      <td>0</td>\n",
       "      <td>3</td>\n",
       "      <td>0.0000</td>\n",
       "      <td>0.71</td>\n",
       "      <td>0</td>\n",
       "      <td>0</td>\n",
       "    </tr>\n",
       "    <tr>\n",
       "      <th>5738</th>\n",
       "      <td>BETBELPDCOR001</td>\n",
       "      <td>2022-03-22 15:20:02</td>\n",
       "      <td>0</td>\n",
       "      <td>0</td>\n",
       "      <td>2723</td>\n",
       "      <td>0</td>\n",
       "      <td>0</td>\n",
       "      <td>0</td>\n",
       "      <td>0</td>\n",
       "      <td>0</td>\n",
       "      <td>0</td>\n",
       "      <td>0</td>\n",
       "      <td>3</td>\n",
       "      <td>0.0000</td>\n",
       "      <td>-3.73</td>\n",
       "      <td>1</td>\n",
       "      <td>1</td>\n",
       "    </tr>\n",
       "  </tbody>\n",
       "</table>\n",
       "<p>5739 rows × 17 columns</p>\n",
       "</div>"
      ],
      "text/plain": [
       "           client_id     stats_timestamp  total_attached_user  \\\n",
       "0     BETAZRPDCOR001 2022-03-01 14:55:27                    2   \n",
       "1     BETAZRPDCOR001 2022-03-01 15:16:59                    2   \n",
       "2     BETAZRPDCOR001 2022-03-01 15:18:01                    2   \n",
       "3     BETAZRPDCOR001 2022-03-01 15:24:02                    2   \n",
       "4     BETAZRPDCOR001 2022-03-01 15:30:02                    2   \n",
       "...              ...                 ...                  ...   \n",
       "5734  BETBELPDCOR001 2022-03-22 15:00:03                    0   \n",
       "5735  BETBELPDCOR001 2022-03-22 15:05:03                    0   \n",
       "5736  BETBELPDCOR001 2022-03-22 15:10:03                    0   \n",
       "5737  BETBELPDCOR001 2022-03-22 15:15:03                    0   \n",
       "5738  BETBELPDCOR001 2022-03-22 15:20:02                    0   \n",
       "\n",
       "     total_rejected_user  peak_upload_speed  peak_download_speed  \\\n",
       "0                      0              45751                    0   \n",
       "1                      0              45901                    0   \n",
       "2                      0              45901                    0   \n",
       "3                      0              45921                    0   \n",
       "4                      0              45940                    0   \n",
       "...                  ...                ...                  ...   \n",
       "5734                   0              44221                    0   \n",
       "5735                   0              72702                    0   \n",
       "5736                   0              72702                    0   \n",
       "5737                   0              72702                    0   \n",
       "5738                   0               2723                    0   \n",
       "\n",
       "      enodeb_shutdown_count  handover_failure_count  bearer_active_user_count  \\\n",
       "0                         0                       0                         0   \n",
       "1                         0                       0                         0   \n",
       "2                         0                       0                         0   \n",
       "3                         0                       0                         0   \n",
       "4                         0                       0                         0   \n",
       "...                     ...                     ...                       ...   \n",
       "5734                      0                       0                         0   \n",
       "5735                      0                       0                         0   \n",
       "5736                      0                       0                         0   \n",
       "5737                      0                       0                         0   \n",
       "5738                      0                       0                         0   \n",
       "\n",
       "      bearer_rejected_user_count  total_users  total_dropped_packets  \\\n",
       "0                              0            0                      1   \n",
       "1                              0            0                      1   \n",
       "2                              0            0                      1   \n",
       "3                              0            0                      1   \n",
       "4                              0            0                      1   \n",
       "...                          ...          ...                    ...   \n",
       "5734                           0            0                      0   \n",
       "5735                           0            0                      0   \n",
       "5736                           0            0                      0   \n",
       "5737                           0            0                      0   \n",
       "5738                           0            0                      0   \n",
       "\n",
       "      enodeb_connected_count  enodeb_connection_status  \\\n",
       "0                          2                   33.3333   \n",
       "1                          2                   33.3333   \n",
       "2                          2                   33.3333   \n",
       "3                          2                   33.3333   \n",
       "4                          2                   33.3333   \n",
       "...                      ...                       ...   \n",
       "5734                       3                    0.0000   \n",
       "5735                       3                    0.0000   \n",
       "5736                       3                    0.0000   \n",
       "5737                       3                    0.0000   \n",
       "5738                       3                    0.0000   \n",
       "\n",
       "      Z-score_peak_upload_speed  label_Z-score_peak_upload_speed  \\\n",
       "0                         -1.00                                0   \n",
       "1                         -0.99                                0   \n",
       "2                         -0.99                                0   \n",
       "3                         -0.99                                0   \n",
       "4                         -0.99                                0   \n",
       "...                         ...                              ...   \n",
       "5734                      -1.10                                0   \n",
       "5735                       0.71                                0   \n",
       "5736                       0.71                                0   \n",
       "5737                       0.71                                0   \n",
       "5738                      -3.73                                1   \n",
       "\n",
       "      label_outlier_peak_upload_speed  \n",
       "0                                   0  \n",
       "1                                   0  \n",
       "2                                   0  \n",
       "3                                   0  \n",
       "4                                   0  \n",
       "...                               ...  \n",
       "5734                                0  \n",
       "5735                                0  \n",
       "5736                                0  \n",
       "5737                                0  \n",
       "5738                                1  \n",
       "\n",
       "[5739 rows x 17 columns]"
      ]
     },
     "execution_count": 59,
     "metadata": {},
     "output_type": "execute_result"
    }
   ],
   "source": [
    "add_outlier_column(df,col)"
   ]
  },
  {
   "cell_type": "markdown",
   "id": "d75b8084",
   "metadata": {},
   "source": [
    "## Automation"
   ]
  },
  {
   "cell_type": "markdown",
   "id": "f1695fb8",
   "metadata": {},
   "source": [
    "### Apply Stats Functions for All column in one Database"
   ]
  },
  {
   "cell_type": "code",
   "execution_count": 60,
   "id": "47b5ed3d",
   "metadata": {
    "ExecuteTime": {
     "end_time": "2022-03-22T22:21:14.102574Z",
     "start_time": "2022-03-22T22:21:14.093393Z"
    }
   },
   "outputs": [
    {
     "name": "stdout",
     "output_type": "stream",
     "text": [
      "We keep columns:  ['client_id', 'total_attached_user', 'peak_upload_speed', 'handover_failure_count', 'bearer_active_user_count', 'total_users', 'total_dropped_packets', 'enodeb_connected_count', 'enodeb_connection_status'] \n",
      "\n"
     ]
    }
   ],
   "source": [
    "keeped_column_name = list(Summary_table[\"Columns_Name\"])\n",
    "print(\"We keep columns: \", keeped_column_name,\"\\n\")\n",
    "keeped_column_name.remove(\"client_id\")\n"
   ]
  },
  {
   "cell_type": "code",
   "execution_count": 100,
   "id": "ae41adc7",
   "metadata": {
    "ExecuteTime": {
     "end_time": "2022-03-22T22:48:02.900314Z",
     "start_time": "2022-03-22T22:48:02.872614Z"
    }
   },
   "outputs": [
    {
     "data": {
      "text/plain": [
       "['BETAZRPDCOR001', 'BETBELPDCOR001']"
      ]
     },
     "execution_count": 100,
     "metadata": {},
     "output_type": "execute_result"
    }
   ],
   "source": []
  },
  {
   "cell_type": "code",
   "execution_count": 101,
   "id": "3995a54b",
   "metadata": {
    "ExecuteTime": {
     "end_time": "2022-03-22T22:51:25.431553Z",
     "start_time": "2022-03-22T22:51:25.020193Z"
    }
   },
   "outputs": [
    {
     "name": "stderr",
     "output_type": "stream",
     "text": [
      "C:\\Users\\JIJUND~1\\AppData\\Local\\Temp/ipykernel_16172/629091055.py:5: SettingWithCopyWarning: \n",
      "A value is trying to be set on a copy of a slice from a DataFrame.\n",
      "Try using .loc[row_indexer,col_indexer] = value instead\n",
      "\n",
      "See the caveats in the documentation: https://pandas.pydata.org/pandas-docs/stable/user_guide/indexing.html#returning-a-view-versus-a-copy\n",
      "  df[col_name]=Z_score_list\n",
      "C:\\Users\\JIJUND~1\\AppData\\Local\\Temp/ipykernel_16172/629091055.py:7: SettingWithCopyWarning: \n",
      "A value is trying to be set on a copy of a slice from a DataFrame.\n",
      "Try using .loc[row_indexer,col_indexer] = value instead\n",
      "\n",
      "See the caveats in the documentation: https://pandas.pydata.org/pandas-docs/stable/user_guide/indexing.html#returning-a-view-versus-a-copy\n",
      "  df[\"label_Z-score_\"+col] = [ 1 if (x< -1*z_score_threshold or x>1*z_score_threshold) else 0 for x in df[col_name]]\n",
      "C:\\Users\\JIJUND~1\\AppData\\Local\\Temp/ipykernel_16172/3405292070.py:21: SettingWithCopyWarning: \n",
      "A value is trying to be set on a copy of a slice from a DataFrame.\n",
      "Try using .loc[row_indexer,col_indexer] = value instead\n",
      "\n",
      "See the caveats in the documentation: https://pandas.pydata.org/pandas-docs/stable/user_guide/indexing.html#returning-a-view-versus-a-copy\n",
      "  df[\"label_outlier_\"+col]  = outlier_label\n"
     ]
    }
   ],
   "source": [
    "# Create a new table to store all the computed metrics\n",
    "Stats_summary_core = df\n",
    "client_id_list= list(df.client_id.unique())\n",
    "Stats_summary_core_new= pd.DataFrame()\n",
    "\n",
    "for clientID in client_id_list:\n",
    "    temp_df = Stats_summary_core[Stats_summary_core[\"client_id\"]==clientID]\n",
    "    \n",
    "    for col in keeped_column_name:\n",
    "\n",
    "        temp_df=add_Z_score_column(temp_df,col)\n",
    "        temp_df=add_outlier_column(temp_df,col)\n",
    "    \n",
    "\n",
    "    Stats_summary_core_new=Stats_summary_core_new.append(temp_df, ignore_index = True)\n",
    "\n",
    "filter_col = [col for col in Stats_summary_core if col.startswith('label')]"
   ]
  },
  {
   "cell_type": "code",
   "execution_count": 103,
   "id": "d8a5be8b",
   "metadata": {
    "ExecuteTime": {
     "end_time": "2022-03-22T22:51:45.996581Z",
     "start_time": "2022-03-22T22:51:45.989571Z"
    }
   },
   "outputs": [],
   "source": [
    "Stats_summary_core= Stats_summary_core_new"
   ]
  },
  {
   "cell_type": "code",
   "execution_count": 104,
   "id": "edeb4021",
   "metadata": {
    "ExecuteTime": {
     "end_time": "2022-03-22T22:51:48.677442Z",
     "start_time": "2022-03-22T22:51:48.660446Z"
    }
   },
   "outputs": [
    {
     "data": {
      "text/plain": [
       "label_Z-score_peak_upload_speed           0.05\n",
       "label_outlier_peak_upload_speed           0.24\n",
       "label_Z-score_total_attached_user         0.00\n",
       "label_outlier_total_attached_user         0.00\n",
       "label_Z-score_handover_failure_count      0.01\n",
       "label_outlier_handover_failure_count      0.01\n",
       "label_Z-score_bearer_active_user_count    0.01\n",
       "label_outlier_bearer_active_user_count    0.01\n",
       "label_Z-score_total_users                 0.03\n",
       "label_outlier_total_users                 0.03\n",
       "label_Z-score_total_dropped_packets       0.00\n",
       "label_outlier_total_dropped_packets       0.10\n",
       "label_Z-score_enodeb_connected_count      0.00\n",
       "label_outlier_enodeb_connected_count      0.10\n",
       "label_Z-score_enodeb_connection_status    0.00\n",
       "label_outlier_enodeb_connection_status    0.10\n",
       "dtype: float64"
      ]
     },
     "execution_count": 104,
     "metadata": {},
     "output_type": "execute_result"
    }
   ],
   "source": [
    "# Find percentage of labels that's been marked as anomalies, 0.01 means 1%\n",
    "np.round(Stats_summary_core[filter_col].sum()/Stats_summary_core.shape[0],2)"
   ]
  },
  {
   "cell_type": "markdown",
   "id": "d0718938",
   "metadata": {},
   "source": [
    "### Export to CSVs"
   ]
  },
  {
   "cell_type": "code",
   "execution_count": 105,
   "id": "d842ab39",
   "metadata": {
    "ExecuteTime": {
     "end_time": "2022-03-22T22:52:41.800737Z",
     "start_time": "2022-03-22T22:52:41.782885Z"
    }
   },
   "outputs": [],
   "source": [
    "export_full_option=False\n",
    "if export_full_option == True:\n",
    "    Anomaly_summary = Stats_summary_core[Stats_summary_core[filter_col].sum(axis=1)>=1].reset_index(drop=True)\n",
    "    Anomaly_summary.to_csv(\"Anomaly_summary.csv\")"
   ]
  },
  {
   "cell_type": "code",
   "execution_count": 106,
   "id": "f02ea993",
   "metadata": {
    "ExecuteTime": {
     "end_time": "2022-03-22T22:52:42.105434Z",
     "start_time": "2022-03-22T22:52:42.075766Z"
    }
   },
   "outputs": [
    {
     "name": "stdout",
     "output_type": "stream",
     "text": [
      "0 rows of anomaly detected for column total_attached_user\n",
      "File Anomaly_total_attached_user_summary.csv already generated\n",
      "Done for: total_attached_user \n",
      "\n",
      "1391 rows of anomaly detected for column peak_upload_speed\n",
      "File Anomaly_peak_upload_speed_summary.csv already generated\n",
      "Done for: peak_upload_speed \n",
      "\n",
      "32 rows of anomaly detected for column handover_failure_count\n",
      "File Anomaly_handover_failure_count_summary.csv already generated\n",
      "Done for: handover_failure_count \n",
      "\n",
      "47 rows of anomaly detected for column bearer_active_user_count\n",
      "File Anomaly_bearer_active_user_count_summary.csv already generated\n",
      "Done for: bearer_active_user_count \n",
      "\n",
      "155 rows of anomaly detected for column total_users\n",
      "File Anomaly_total_users_summary.csv already generated\n",
      "Done for: total_users \n",
      "\n",
      "575 rows of anomaly detected for column total_dropped_packets\n",
      "File Anomaly_total_dropped_packets_summary.csv already generated\n",
      "Done for: total_dropped_packets \n",
      "\n",
      "575 rows of anomaly detected for column enodeb_connected_count\n",
      "File Anomaly_enodeb_connected_count_summary.csv already generated\n",
      "Done for: enodeb_connected_count \n",
      "\n",
      "575 rows of anomaly detected for column enodeb_connection_status\n",
      "File Anomaly_enodeb_connection_status_summary.csv already generated\n",
      "Done for: enodeb_connection_status \n",
      "\n"
     ]
    }
   ],
   "source": [
    "import os.path\n",
    "# folder_path = \"C:\\Users\\Jijun Du\\Desktop\\Main_Anomaly_Detection\\Generated_csv\\\"\n",
    "\n",
    "for col in keeped_column_name:\n",
    "    \n",
    "    # Filter columns with at least one record that have anomaly label\n",
    "    condition= (Stats_summary_core[\"label_Z-score_\"+ col]!=0) | (Stats_summary_core[\"label_outlier_\"+col]!=0)\n",
    "    \n",
    "    \n",
    "    subset_columns=[\"client_id\",\"stats_timestamp\",col,\"label_Z-score_\"+col,\"label_outlier_\"+col]\n",
    "    print(\"{} rows of anomaly detected for column {}\".format(sum(condition),col))\n",
    "    \n",
    "    subset_Summary= Stats_summary_core[condition][subset_columns]\n",
    "    \n",
    "    csv_filename = \"Anomaly_{}_summary.csv\".format(col)\n",
    "    \n",
    "    if os.path.exists(csv_filename):\n",
    "        print(\"File {} already generated\".format(csv_filename))\n",
    "        pass\n",
    "    else:\n",
    "        subset_Summary.to_csv(csv_filename,index=False)\n",
    "\n",
    "    print(\"Done for:\", col,\"\\n\")\n",
    "    \n",
    "    "
   ]
  },
  {
   "cell_type": "code",
   "execution_count": 107,
   "id": "a4a91b64",
   "metadata": {
    "ExecuteTime": {
     "end_time": "2022-03-22T22:52:42.259736Z",
     "start_time": "2022-03-22T22:52:42.243352Z"
    }
   },
   "outputs": [],
   "source": [
    "export_anomaly_df= pd.DataFrame()"
   ]
  },
  {
   "cell_type": "code",
   "execution_count": 108,
   "id": "279b95b4",
   "metadata": {
    "ExecuteTime": {
     "end_time": "2022-03-22T22:52:42.472828Z",
     "start_time": "2022-03-22T22:52:42.445218Z"
    }
   },
   "outputs": [
    {
     "name": "stdout",
     "output_type": "stream",
     "text": [
      "0 rows of anomaly detected for column total_attached_user\n",
      "Done for: total_attached_user \n",
      "\n",
      "1391 rows of anomaly detected for column peak_upload_speed\n",
      "Done for: peak_upload_speed \n",
      "\n",
      "32 rows of anomaly detected for column handover_failure_count\n",
      "Done for: handover_failure_count \n",
      "\n",
      "47 rows of anomaly detected for column bearer_active_user_count\n",
      "Done for: bearer_active_user_count \n",
      "\n",
      "155 rows of anomaly detected for column total_users\n",
      "Done for: total_users \n",
      "\n",
      "575 rows of anomaly detected for column total_dropped_packets\n",
      "Done for: total_dropped_packets \n",
      "\n",
      "575 rows of anomaly detected for column enodeb_connected_count\n",
      "Done for: enodeb_connected_count \n",
      "\n",
      "575 rows of anomaly detected for column enodeb_connection_status\n",
      "Done for: enodeb_connection_status \n",
      "\n"
     ]
    }
   ],
   "source": [
    "# folder_path = \"C:\\Users\\Jijun Du\\Desktop\\Main_Anomaly_Detection\\Generated_csv\\\"\n",
    "export_anomaly_df= pd.DataFrame()\n",
    "\n",
    "for col in keeped_column_name:\n",
    "\n",
    "    # Filter columns with at least one record that have anomaly label\n",
    "    condition= (Stats_summary_core[\"label_Z-score_\"+ col]!=0) | (Stats_summary_core[\"label_outlier_\"+col]!=0)\n",
    "    \n",
    "    \n",
    "    subset_columns=[\"client_id\",\"stats_timestamp\",col,\"label_Z-score_\"+col,\"label_outlier_\"+col]\n",
    "    print(\"{} rows of anomaly detected for column {}\".format(sum(condition),col))\n",
    "    \n",
    "    subset_Summary= Stats_summary_core[condition][subset_columns]\n",
    "    \n",
    "    export_anomaly_df\n",
    "\n",
    "    print(\"Done for:\", col,\"\\n\")\n",
    "    \n",
    "    "
   ]
  },
  {
   "cell_type": "code",
   "execution_count": 109,
   "id": "674a2a07",
   "metadata": {
    "ExecuteTime": {
     "end_time": "2022-03-22T22:52:42.671245Z",
     "start_time": "2022-03-22T22:52:42.661043Z"
    }
   },
   "outputs": [],
   "source": [
    "def reorder_columns(dataframe, col_name, position):\n",
    "    \"\"\"Reorder a dataframe's column.\n",
    "    Args:\n",
    "        dataframe (pd.DataFrame): dataframe to use\n",
    "        col_name (string): column name to move\n",
    "        position (0-indexed position): where to relocate column to\n",
    "    Returns:\n",
    "        pd.DataFrame: re-assigned dataframe\n",
    "    \"\"\"\n",
    "    temp_col = dataframe[col_name]\n",
    "    dataframe = dataframe.drop(columns=[col_name])\n",
    "    dataframe.insert(loc=position, column=col_name, value=temp_col)\n",
    "    return dataframe"
   ]
  },
  {
   "cell_type": "code",
   "execution_count": 110,
   "id": "c579837c",
   "metadata": {
    "ExecuteTime": {
     "end_time": "2022-03-22T22:52:42.975407Z",
     "start_time": "2022-03-22T22:52:42.921293Z"
    }
   },
   "outputs": [
    {
     "name": "stdout",
     "output_type": "stream",
     "text": [
      "0 rows of anomaly detected for column total_attached_user\n",
      "1391 rows of anomaly detected for column peak_upload_speed\n",
      "32 rows of anomaly detected for column handover_failure_count\n",
      "47 rows of anomaly detected for column bearer_active_user_count\n",
      "155 rows of anomaly detected for column total_users\n",
      "575 rows of anomaly detected for column total_dropped_packets\n",
      "575 rows of anomaly detected for column enodeb_connected_count\n",
      "575 rows of anomaly detected for column enodeb_connection_status\n"
     ]
    }
   ],
   "source": [
    "# Filter columns with at least one record that have anomaly label\n",
    "\n",
    "for col in keeped_column_name:\n",
    "    condition= (Stats_summary_core[\"label_Z-score_\"+ col]!=0) | (Stats_summary_core[\"label_outlier_\"+col]!=0)\n",
    "\n",
    "\n",
    "    subset_columns=[\"client_id\",\"stats_timestamp\",col,\"label_Z-score_\"+col,\"label_outlier_\"+col]\n",
    "    print(\"{} rows of anomaly detected for column {}\".format(sum(condition),col))\n",
    "\n",
    "    subset_Summary= Stats_summary_core[condition][subset_columns]\n",
    "    subset_Summary[\"Attribute_Name\"] = col\n",
    "    subset_Summary = reorder_columns(subset_Summary,\"Attribute_Name\",2)\n",
    "    subset_Summary=subset_Summary.rename(columns={str(col):\"Attribute_Value\",\"label_Z-score_\"+col: \"Attribute_Label_Z_Score\", \"label_outlier_\"+col: \"Attribute_Label_Outlier\"})\n",
    "    \n",
    "    export_anomaly_df=export_anomaly_df.append(subset_Summary, ignore_index = True)\n"
   ]
  },
  {
   "cell_type": "code",
   "execution_count": 111,
   "id": "52c0f25a",
   "metadata": {
    "ExecuteTime": {
     "end_time": "2022-03-22T22:52:43.525020Z",
     "start_time": "2022-03-22T22:52:43.485363Z"
    }
   },
   "outputs": [],
   "source": [
    "export_anomaly_df.to_csv(\"export_anomaly_df.csv\")"
   ]
  },
  {
   "cell_type": "markdown",
   "id": "05980ca8",
   "metadata": {},
   "source": [
    "### Anomaly Per Day"
   ]
  },
  {
   "cell_type": "code",
   "execution_count": 127,
   "id": "d5cb64a7",
   "metadata": {
    "ExecuteTime": {
     "end_time": "2022-03-22T23:00:34.401229Z",
     "start_time": "2022-03-22T23:00:34.388007Z"
    }
   },
   "outputs": [],
   "source": [
    "Anomaly_summary=Stats_summary_core"
   ]
  },
  {
   "cell_type": "code",
   "execution_count": 128,
   "id": "a52fc9b8",
   "metadata": {
    "ExecuteTime": {
     "end_time": "2022-03-22T23:00:35.160210Z",
     "start_time": "2022-03-22T23:00:34.686480Z"
    }
   },
   "outputs": [
    {
     "name": "stdout",
     "output_type": "stream",
     "text": [
      "Q: What's the number of days for data we have? \n",
      "A: 21 days 00:24:35\n",
      "Q: How many records per day is classified as anomaly by at least one label? \n",
      "A: 273.3\n",
      "total_attached_user\n",
      "Q: How many Total Anomaly Occurs per day? \n",
      "A: 0.0\n",
      "peak_upload_speed\n",
      "Q: How many Total Anomaly Occurs per day? \n",
      "A: 66.24\n",
      "handover_failure_count\n",
      "Q: How many Total Anomaly Occurs per day? \n",
      "A: 1.52\n",
      "bearer_active_user_count\n",
      "Q: How many Total Anomaly Occurs per day? \n",
      "A: 2.24\n",
      "total_users\n",
      "Q: How many Total Anomaly Occurs per day? \n",
      "A: 7.38\n",
      "total_dropped_packets\n",
      "Q: How many Total Anomaly Occurs per day? \n",
      "A: 27.38\n",
      "enodeb_connected_count\n",
      "Q: How many Total Anomaly Occurs per day? \n",
      "A: 27.38\n",
      "enodeb_connection_status\n",
      "Q: How many Total Anomaly Occurs per day? \n",
      "A: 27.38\n"
     ]
    }
   ],
   "source": [
    "ans_time_delta= max(df.stats_timestamp)-min(df.stats_timestamp)\n",
    "print(\"Q: What's the number of days for data we have?\",\"\\nA:\",ans_time_delta)\n",
    "\n",
    "num_days = ans_time_delta.days\n",
    "ans_avg_anomaly_by_day = np.round(Anomaly_summary.shape[0]/num_days,1)\n",
    "print(\"Q: How many records per day is classified as anomaly by at least one label?\",\"\\nA:\",ans_avg_anomaly_by_day)\n",
    "\n",
    "\n",
    "for col in keeped_column_name:\n",
    "    condition= (Stats_summary_core[\"label_Z-score_\"+ col]!=0) | (Stats_summary_core[\"label_outlier_\"+col]!=0)    \n",
    "    subset_columns=[\"client_id\",\"stats_timestamp\",col,\"label_Z-score_\"+col,\"label_outlier_\"+col]\n",
    "    subset_Summary= Stats_summary_core[condition][subset_columns]\n",
    "    \n",
    "    ans_col_avg_anomaly_by_day= np.round(subset_Summary.shape[0] / num_days,2)\n",
    "    #print(\"\\n\")\n",
    "    print(col)\n",
    "    print(\"Q: How many Total Anomaly Occurs per day?\",\"\\nA:\",ans_col_avg_anomaly_by_day)\n"
   ]
  },
  {
   "cell_type": "markdown",
   "id": "71ef99d2",
   "metadata": {},
   "source": [
    "### Addtional Summary \n",
    "- Anoamly for which Column\n",
    "- Client\n",
    "- Anomaly Time\n",
    "\n",
    "**Data Structure**"
   ]
  },
  {
   "cell_type": "markdown",
   "id": "453f9d86",
   "metadata": {},
   "source": [
    "### Automate Process for Anomly Experimentation"
   ]
  },
  {
   "cell_type": "code",
   "execution_count": 130,
   "id": "72c31ad4",
   "metadata": {
    "ExecuteTime": {
     "end_time": "2022-03-22T23:04:19.851124Z",
     "start_time": "2022-03-22T23:04:19.829892Z"
    }
   },
   "outputs": [],
   "source": [
    "def experiment_Stats(z_score=3,iqr=1.5, num_days=14):\n",
    "\n",
    "    Stats_summary_core = df\n",
    "    for col in keeped_column_name:\n",
    "\n",
    "        Stats_summary_core=add_Z_score_column(Stats_summary_core,col,z_score_threshold=z_score)\n",
    "        Stats_summary_core=add_outlier_column(Stats_summary_core,col, iqr_factor=iqr)\n",
    "    \n",
    "    print(\"Anomaly Detected Rocord per Day\")\n",
    "    print(np.round(Stats_summary_core[filter_col].sum()/num_days,2))\n",
    "    print(\"\\n\")\n",
    "    print(\"Anomaly Percentage\")\n",
    "    print(np.round(Stats_summary_core[filter_col].sum()/Stats_summary_core.shape[0],2))\n"
   ]
  },
  {
   "cell_type": "code",
   "execution_count": 131,
   "id": "afdeea7b",
   "metadata": {
    "ExecuteTime": {
     "end_time": "2022-03-22T23:04:20.581162Z",
     "start_time": "2022-03-22T23:04:20.214898Z"
    }
   },
   "outputs": [
    {
     "name": "stdout",
     "output_type": "stream",
     "text": [
      "Anomaly Detected Rocord per Day\n",
      "label_Z-score_peak_upload_speed           18.36\n",
      "label_outlier_peak_upload_speed           17.93\n",
      "label_Z-score_total_attached_user          2.57\n",
      "label_outlier_total_attached_user         94.36\n",
      "label_Z-score_handover_failure_count       2.29\n",
      "label_outlier_handover_failure_count       2.29\n",
      "label_Z-score_bearer_active_user_count     2.29\n",
      "label_outlier_bearer_active_user_count     3.36\n",
      "label_Z-score_total_users                 11.07\n",
      "label_outlier_total_users                 11.07\n",
      "label_Z-score_total_dropped_packets        0.00\n",
      "label_outlier_total_dropped_packets        0.00\n",
      "label_Z-score_enodeb_connected_count       0.00\n",
      "label_outlier_enodeb_connected_count       0.00\n",
      "label_Z-score_enodeb_connection_status     0.00\n",
      "label_outlier_enodeb_connection_status     0.00\n",
      "dtype: float64\n",
      "\n",
      "\n",
      "Anomaly Percentage\n",
      "label_Z-score_peak_upload_speed           0.04\n",
      "label_outlier_peak_upload_speed           0.04\n",
      "label_Z-score_total_attached_user         0.01\n",
      "label_outlier_total_attached_user         0.23\n",
      "label_Z-score_handover_failure_count      0.01\n",
      "label_outlier_handover_failure_count      0.01\n",
      "label_Z-score_bearer_active_user_count    0.01\n",
      "label_outlier_bearer_active_user_count    0.01\n",
      "label_Z-score_total_users                 0.03\n",
      "label_outlier_total_users                 0.03\n",
      "label_Z-score_total_dropped_packets       0.00\n",
      "label_outlier_total_dropped_packets       0.00\n",
      "label_Z-score_enodeb_connected_count      0.00\n",
      "label_outlier_enodeb_connected_count      0.00\n",
      "label_Z-score_enodeb_connection_status    0.00\n",
      "label_outlier_enodeb_connection_status    0.00\n",
      "dtype: float64\n"
     ]
    }
   ],
   "source": [
    "experiment_Stats(4,2)"
   ]
  },
  {
   "cell_type": "code",
   "execution_count": 132,
   "id": "0faf792c",
   "metadata": {
    "ExecuteTime": {
     "end_time": "2022-03-22T23:04:26.746688Z",
     "start_time": "2022-03-22T23:04:26.736640Z"
    }
   },
   "outputs": [
    {
     "data": {
      "text/html": [
       "<div>\n",
       "<style scoped>\n",
       "    .dataframe tbody tr th:only-of-type {\n",
       "        vertical-align: middle;\n",
       "    }\n",
       "\n",
       "    .dataframe tbody tr th {\n",
       "        vertical-align: top;\n",
       "    }\n",
       "\n",
       "    .dataframe thead th {\n",
       "        text-align: right;\n",
       "    }\n",
       "</style>\n",
       "<table border=\"1\" class=\"dataframe\">\n",
       "  <thead>\n",
       "    <tr style=\"text-align: right;\">\n",
       "      <th></th>\n",
       "      <th>label_Z-score_peak_upload_speed</th>\n",
       "      <th>label_Z-score_total_attached_user</th>\n",
       "      <th>label_Z-score_handover_failure_count</th>\n",
       "      <th>label_Z-score_bearer_active_user_count</th>\n",
       "      <th>label_Z-score_total_users</th>\n",
       "      <th>label_Z-score_total_dropped_packets</th>\n",
       "      <th>label_Z-score_enodeb_connected_count</th>\n",
       "      <th>label_Z-score_enodeb_connection_status</th>\n",
       "    </tr>\n",
       "  </thead>\n",
       "  <tbody>\n",
       "    <tr>\n",
       "      <th>0</th>\n",
       "      <td>0</td>\n",
       "      <td>0</td>\n",
       "      <td>0</td>\n",
       "      <td>0</td>\n",
       "      <td>0</td>\n",
       "      <td>0</td>\n",
       "      <td>0</td>\n",
       "      <td>0</td>\n",
       "    </tr>\n",
       "    <tr>\n",
       "      <th>1</th>\n",
       "      <td>0</td>\n",
       "      <td>0</td>\n",
       "      <td>0</td>\n",
       "      <td>0</td>\n",
       "      <td>0</td>\n",
       "      <td>0</td>\n",
       "      <td>0</td>\n",
       "      <td>0</td>\n",
       "    </tr>\n",
       "    <tr>\n",
       "      <th>2</th>\n",
       "      <td>0</td>\n",
       "      <td>0</td>\n",
       "      <td>0</td>\n",
       "      <td>0</td>\n",
       "      <td>0</td>\n",
       "      <td>0</td>\n",
       "      <td>0</td>\n",
       "      <td>0</td>\n",
       "    </tr>\n",
       "  </tbody>\n",
       "</table>\n",
       "</div>"
      ],
      "text/plain": [
       "   label_Z-score_peak_upload_speed  label_Z-score_total_attached_user  \\\n",
       "0                                0                                  0   \n",
       "1                                0                                  0   \n",
       "2                                0                                  0   \n",
       "\n",
       "   label_Z-score_handover_failure_count  \\\n",
       "0                                     0   \n",
       "1                                     0   \n",
       "2                                     0   \n",
       "\n",
       "   label_Z-score_bearer_active_user_count  label_Z-score_total_users  \\\n",
       "0                                       0                          0   \n",
       "1                                       0                          0   \n",
       "2                                       0                          0   \n",
       "\n",
       "   label_Z-score_total_dropped_packets  label_Z-score_enodeb_connected_count  \\\n",
       "0                                    0                                     0   \n",
       "1                                    0                                     0   \n",
       "2                                    0                                     0   \n",
       "\n",
       "   label_Z-score_enodeb_connection_status  \n",
       "0                                       0  \n",
       "1                                       0  \n",
       "2                                       0  "
      ]
     },
     "execution_count": 132,
     "metadata": {},
     "output_type": "execute_result"
    }
   ],
   "source": [
    "filter_col_Z = [col for col in Stats_summary_core if col.startswith('label_Z')]\n",
    "Stats_summary_core[filter_col_Z].head(3)"
   ]
  },
  {
   "cell_type": "code",
   "execution_count": 133,
   "id": "61d43e27",
   "metadata": {
    "ExecuteTime": {
     "end_time": "2022-03-22T23:04:27.768576Z",
     "start_time": "2022-03-22T23:04:27.746529Z"
    }
   },
   "outputs": [
    {
     "data": {
      "text/html": [
       "<div>\n",
       "<style scoped>\n",
       "    .dataframe tbody tr th:only-of-type {\n",
       "        vertical-align: middle;\n",
       "    }\n",
       "\n",
       "    .dataframe tbody tr th {\n",
       "        vertical-align: top;\n",
       "    }\n",
       "\n",
       "    .dataframe thead th {\n",
       "        text-align: right;\n",
       "    }\n",
       "</style>\n",
       "<table border=\"1\" class=\"dataframe\">\n",
       "  <thead>\n",
       "    <tr style=\"text-align: right;\">\n",
       "      <th></th>\n",
       "      <th>client_id</th>\n",
       "      <th>stats_timestamp</th>\n",
       "      <th>total_attached_user</th>\n",
       "      <th>total_rejected_user</th>\n",
       "      <th>peak_upload_speed</th>\n",
       "      <th>peak_download_speed</th>\n",
       "      <th>enodeb_shutdown_count</th>\n",
       "      <th>handover_failure_count</th>\n",
       "      <th>bearer_active_user_count</th>\n",
       "      <th>bearer_rejected_user_count</th>\n",
       "      <th>...</th>\n",
       "      <th>label_outlier_total_users</th>\n",
       "      <th>Z-score_total_dropped_packets</th>\n",
       "      <th>label_Z-score_total_dropped_packets</th>\n",
       "      <th>label_outlier_total_dropped_packets</th>\n",
       "      <th>Z-score_enodeb_connected_count</th>\n",
       "      <th>label_Z-score_enodeb_connected_count</th>\n",
       "      <th>label_outlier_enodeb_connected_count</th>\n",
       "      <th>Z-score_enodeb_connection_status</th>\n",
       "      <th>label_Z-score_enodeb_connection_status</th>\n",
       "      <th>label_outlier_enodeb_connection_status</th>\n",
       "    </tr>\n",
       "  </thead>\n",
       "  <tbody>\n",
       "    <tr>\n",
       "      <th>0</th>\n",
       "      <td>BETAZRPDCOR001</td>\n",
       "      <td>2022-03-01 14:55:27</td>\n",
       "      <td>2</td>\n",
       "      <td>0</td>\n",
       "      <td>45751</td>\n",
       "      <td>0</td>\n",
       "      <td>0</td>\n",
       "      <td>0</td>\n",
       "      <td>0</td>\n",
       "      <td>0</td>\n",
       "      <td>...</td>\n",
       "      <td>0</td>\n",
       "      <td>0.5</td>\n",
       "      <td>0</td>\n",
       "      <td>0</td>\n",
       "      <td>-0.5</td>\n",
       "      <td>0</td>\n",
       "      <td>0</td>\n",
       "      <td>0.5</td>\n",
       "      <td>0</td>\n",
       "      <td>0</td>\n",
       "    </tr>\n",
       "    <tr>\n",
       "      <th>1</th>\n",
       "      <td>BETAZRPDCOR001</td>\n",
       "      <td>2022-03-01 15:16:59</td>\n",
       "      <td>2</td>\n",
       "      <td>0</td>\n",
       "      <td>45901</td>\n",
       "      <td>0</td>\n",
       "      <td>0</td>\n",
       "      <td>0</td>\n",
       "      <td>0</td>\n",
       "      <td>0</td>\n",
       "      <td>...</td>\n",
       "      <td>0</td>\n",
       "      <td>0.5</td>\n",
       "      <td>0</td>\n",
       "      <td>0</td>\n",
       "      <td>-0.5</td>\n",
       "      <td>0</td>\n",
       "      <td>0</td>\n",
       "      <td>0.5</td>\n",
       "      <td>0</td>\n",
       "      <td>0</td>\n",
       "    </tr>\n",
       "    <tr>\n",
       "      <th>2</th>\n",
       "      <td>BETAZRPDCOR001</td>\n",
       "      <td>2022-03-01 15:18:01</td>\n",
       "      <td>2</td>\n",
       "      <td>0</td>\n",
       "      <td>45901</td>\n",
       "      <td>0</td>\n",
       "      <td>0</td>\n",
       "      <td>0</td>\n",
       "      <td>0</td>\n",
       "      <td>0</td>\n",
       "      <td>...</td>\n",
       "      <td>0</td>\n",
       "      <td>0.5</td>\n",
       "      <td>0</td>\n",
       "      <td>0</td>\n",
       "      <td>-0.5</td>\n",
       "      <td>0</td>\n",
       "      <td>0</td>\n",
       "      <td>0.5</td>\n",
       "      <td>0</td>\n",
       "      <td>0</td>\n",
       "    </tr>\n",
       "  </tbody>\n",
       "</table>\n",
       "<p>3 rows × 38 columns</p>\n",
       "</div>"
      ],
      "text/plain": [
       "        client_id     stats_timestamp  total_attached_user  \\\n",
       "0  BETAZRPDCOR001 2022-03-01 14:55:27                    2   \n",
       "1  BETAZRPDCOR001 2022-03-01 15:16:59                    2   \n",
       "2  BETAZRPDCOR001 2022-03-01 15:18:01                    2   \n",
       "\n",
       "  total_rejected_user  peak_upload_speed  peak_download_speed  \\\n",
       "0                   0              45751                    0   \n",
       "1                   0              45901                    0   \n",
       "2                   0              45901                    0   \n",
       "\n",
       "   enodeb_shutdown_count  handover_failure_count  bearer_active_user_count  \\\n",
       "0                      0                       0                         0   \n",
       "1                      0                       0                         0   \n",
       "2                      0                       0                         0   \n",
       "\n",
       "   bearer_rejected_user_count  ...  label_outlier_total_users  \\\n",
       "0                           0  ...                          0   \n",
       "1                           0  ...                          0   \n",
       "2                           0  ...                          0   \n",
       "\n",
       "   Z-score_total_dropped_packets  label_Z-score_total_dropped_packets  \\\n",
       "0                            0.5                                    0   \n",
       "1                            0.5                                    0   \n",
       "2                            0.5                                    0   \n",
       "\n",
       "   label_outlier_total_dropped_packets  Z-score_enodeb_connected_count  \\\n",
       "0                                    0                            -0.5   \n",
       "1                                    0                            -0.5   \n",
       "2                                    0                            -0.5   \n",
       "\n",
       "   label_Z-score_enodeb_connected_count  label_outlier_enodeb_connected_count  \\\n",
       "0                                     0                                     0   \n",
       "1                                     0                                     0   \n",
       "2                                     0                                     0   \n",
       "\n",
       "   Z-score_enodeb_connection_status  label_Z-score_enodeb_connection_status  \\\n",
       "0                               0.5                                       0   \n",
       "1                               0.5                                       0   \n",
       "2                               0.5                                       0   \n",
       "\n",
       "   label_outlier_enodeb_connection_status  \n",
       "0                                       0  \n",
       "1                                       0  \n",
       "2                                       0  \n",
       "\n",
       "[3 rows x 38 columns]"
      ]
     },
     "execution_count": 133,
     "metadata": {},
     "output_type": "execute_result"
    }
   ],
   "source": [
    "Stats_summary_core.head(3)"
   ]
  },
  {
   "cell_type": "code",
   "execution_count": 118,
   "id": "f20f5312",
   "metadata": {
    "ExecuteTime": {
     "end_time": "2022-03-22T22:53:25.086735Z",
     "start_time": "2022-03-22T22:53:25.073286Z"
    }
   },
   "outputs": [],
   "source": [
    "matrix_names= filter_col_Z"
   ]
  },
  {
   "cell_type": "code",
   "execution_count": 119,
   "id": "38664289",
   "metadata": {
    "ExecuteTime": {
     "end_time": "2022-03-22T22:53:25.392465Z",
     "start_time": "2022-03-22T22:53:25.380576Z"
    }
   },
   "outputs": [],
   "source": [
    "Stats_summary_matrix = Stats_summary_core[filter_col_Z].to_numpy()"
   ]
  },
  {
   "cell_type": "code",
   "execution_count": 120,
   "id": "f4e05e57",
   "metadata": {
    "ExecuteTime": {
     "end_time": "2022-03-22T22:53:25.742556Z",
     "start_time": "2022-03-22T22:53:25.734508Z"
    }
   },
   "outputs": [
    {
     "data": {
      "text/plain": [
       "['label_Z-score_peak_upload_speed',\n",
       " 'label_outlier_peak_upload_speed',\n",
       " 'label_Z-score_total_attached_user',\n",
       " 'label_outlier_total_attached_user',\n",
       " 'label_Z-score_handover_failure_count',\n",
       " 'label_outlier_handover_failure_count',\n",
       " 'label_Z-score_bearer_active_user_count',\n",
       " 'label_outlier_bearer_active_user_count',\n",
       " 'label_Z-score_total_users',\n",
       " 'label_outlier_total_users',\n",
       " 'label_Z-score_total_dropped_packets',\n",
       " 'label_outlier_total_dropped_packets',\n",
       " 'label_Z-score_enodeb_connected_count',\n",
       " 'label_outlier_enodeb_connected_count',\n",
       " 'label_Z-score_enodeb_connection_status',\n",
       " 'label_outlier_enodeb_connection_status']"
      ]
     },
     "execution_count": 120,
     "metadata": {},
     "output_type": "execute_result"
    }
   ],
   "source": [
    "filter_col"
   ]
  },
  {
   "cell_type": "markdown",
   "id": "59f4abe6",
   "metadata": {},
   "source": [
    "### Scoring for Different Types of Anomalies"
   ]
  },
  {
   "cell_type": "code",
   "execution_count": 121,
   "id": "d9992e7e",
   "metadata": {
    "ExecuteTime": {
     "end_time": "2022-03-22T22:53:26.564011Z",
     "start_time": "2022-03-22T22:53:26.555892Z"
    }
   },
   "outputs": [],
   "source": [
    "Stats_summary_df= pd.DataFrame(Stats_summary_matrix*[12,13,14,14,13,11,14,11])"
   ]
  },
  {
   "cell_type": "code",
   "execution_count": 122,
   "id": "6e1029ce",
   "metadata": {
    "ExecuteTime": {
     "end_time": "2022-03-22T22:53:26.913761Z",
     "start_time": "2022-03-22T22:53:26.897196Z"
    }
   },
   "outputs": [],
   "source": [
    "score_list = list(range(0,110,10))\n",
    "value_list= []"
   ]
  },
  {
   "cell_type": "code",
   "execution_count": 123,
   "id": "725cc538",
   "metadata": {
    "ExecuteTime": {
     "end_time": "2022-03-22T22:53:27.200905Z",
     "start_time": "2022-03-22T22:53:27.180351Z"
    }
   },
   "outputs": [
    {
     "data": {
      "text/plain": [
       "[441, 441, 34, 32, 32, 1, 0, 0, 0, 0, 0]"
      ]
     },
     "execution_count": 123,
     "metadata": {},
     "output_type": "execute_result"
    }
   ],
   "source": [
    "for score in score_list:\n",
    "    v= (Stats_summary_df.sum(axis=1)>score).sum()\n",
    "    value_list.append(v)\n",
    "    \n",
    "value_list"
   ]
  },
  {
   "cell_type": "code",
   "execution_count": 124,
   "id": "a87b7393",
   "metadata": {
    "ExecuteTime": {
     "end_time": "2022-03-22T22:53:27.458294Z",
     "start_time": "2022-03-22T22:53:27.428206Z"
    }
   },
   "outputs": [
    {
     "data": {
      "text/html": [
       "<div>\n",
       "<style scoped>\n",
       "    .dataframe tbody tr th:only-of-type {\n",
       "        vertical-align: middle;\n",
       "    }\n",
       "\n",
       "    .dataframe tbody tr th {\n",
       "        vertical-align: top;\n",
       "    }\n",
       "\n",
       "    .dataframe thead th {\n",
       "        text-align: right;\n",
       "    }\n",
       "</style>\n",
       "<table border=\"1\" class=\"dataframe\">\n",
       "  <thead>\n",
       "    <tr style=\"text-align: right;\">\n",
       "      <th></th>\n",
       "      <th>0</th>\n",
       "      <th>1</th>\n",
       "      <th>2</th>\n",
       "      <th>3</th>\n",
       "      <th>4</th>\n",
       "      <th>5</th>\n",
       "      <th>6</th>\n",
       "      <th>7</th>\n",
       "    </tr>\n",
       "  </thead>\n",
       "  <tbody>\n",
       "    <tr>\n",
       "      <th>20</th>\n",
       "      <td>0</td>\n",
       "      <td>0</td>\n",
       "      <td>14</td>\n",
       "      <td>14</td>\n",
       "      <td>13</td>\n",
       "      <td>0</td>\n",
       "      <td>0</td>\n",
       "      <td>0</td>\n",
       "    </tr>\n",
       "    <tr>\n",
       "      <th>21</th>\n",
       "      <td>0</td>\n",
       "      <td>0</td>\n",
       "      <td>14</td>\n",
       "      <td>14</td>\n",
       "      <td>13</td>\n",
       "      <td>0</td>\n",
       "      <td>0</td>\n",
       "      <td>0</td>\n",
       "    </tr>\n",
       "    <tr>\n",
       "      <th>22</th>\n",
       "      <td>0</td>\n",
       "      <td>0</td>\n",
       "      <td>14</td>\n",
       "      <td>14</td>\n",
       "      <td>13</td>\n",
       "      <td>0</td>\n",
       "      <td>0</td>\n",
       "      <td>0</td>\n",
       "    </tr>\n",
       "    <tr>\n",
       "      <th>23</th>\n",
       "      <td>0</td>\n",
       "      <td>0</td>\n",
       "      <td>14</td>\n",
       "      <td>14</td>\n",
       "      <td>13</td>\n",
       "      <td>0</td>\n",
       "      <td>0</td>\n",
       "      <td>0</td>\n",
       "    </tr>\n",
       "    <tr>\n",
       "      <th>24</th>\n",
       "      <td>0</td>\n",
       "      <td>0</td>\n",
       "      <td>14</td>\n",
       "      <td>14</td>\n",
       "      <td>13</td>\n",
       "      <td>0</td>\n",
       "      <td>0</td>\n",
       "      <td>0</td>\n",
       "    </tr>\n",
       "    <tr>\n",
       "      <th>...</th>\n",
       "      <td>...</td>\n",
       "      <td>...</td>\n",
       "      <td>...</td>\n",
       "      <td>...</td>\n",
       "      <td>...</td>\n",
       "      <td>...</td>\n",
       "      <td>...</td>\n",
       "      <td>...</td>\n",
       "    </tr>\n",
       "    <tr>\n",
       "      <th>5629</th>\n",
       "      <td>12</td>\n",
       "      <td>0</td>\n",
       "      <td>0</td>\n",
       "      <td>0</td>\n",
       "      <td>0</td>\n",
       "      <td>0</td>\n",
       "      <td>0</td>\n",
       "      <td>0</td>\n",
       "    </tr>\n",
       "    <tr>\n",
       "      <th>5661</th>\n",
       "      <td>12</td>\n",
       "      <td>0</td>\n",
       "      <td>0</td>\n",
       "      <td>0</td>\n",
       "      <td>0</td>\n",
       "      <td>0</td>\n",
       "      <td>0</td>\n",
       "      <td>0</td>\n",
       "    </tr>\n",
       "    <tr>\n",
       "      <th>5665</th>\n",
       "      <td>12</td>\n",
       "      <td>0</td>\n",
       "      <td>0</td>\n",
       "      <td>0</td>\n",
       "      <td>0</td>\n",
       "      <td>0</td>\n",
       "      <td>0</td>\n",
       "      <td>0</td>\n",
       "    </tr>\n",
       "    <tr>\n",
       "      <th>5693</th>\n",
       "      <td>12</td>\n",
       "      <td>0</td>\n",
       "      <td>0</td>\n",
       "      <td>0</td>\n",
       "      <td>0</td>\n",
       "      <td>0</td>\n",
       "      <td>0</td>\n",
       "      <td>0</td>\n",
       "    </tr>\n",
       "    <tr>\n",
       "      <th>5738</th>\n",
       "      <td>12</td>\n",
       "      <td>0</td>\n",
       "      <td>0</td>\n",
       "      <td>0</td>\n",
       "      <td>0</td>\n",
       "      <td>0</td>\n",
       "      <td>0</td>\n",
       "      <td>0</td>\n",
       "    </tr>\n",
       "  </tbody>\n",
       "</table>\n",
       "<p>441 rows × 8 columns</p>\n",
       "</div>"
      ],
      "text/plain": [
       "       0  1   2   3   4  5  6  7\n",
       "20     0  0  14  14  13  0  0  0\n",
       "21     0  0  14  14  13  0  0  0\n",
       "22     0  0  14  14  13  0  0  0\n",
       "23     0  0  14  14  13  0  0  0\n",
       "24     0  0  14  14  13  0  0  0\n",
       "...   .. ..  ..  ..  .. .. .. ..\n",
       "5629  12  0   0   0   0  0  0  0\n",
       "5661  12  0   0   0   0  0  0  0\n",
       "5665  12  0   0   0   0  0  0  0\n",
       "5693  12  0   0   0   0  0  0  0\n",
       "5738  12  0   0   0   0  0  0  0\n",
       "\n",
       "[441 rows x 8 columns]"
      ]
     },
     "execution_count": 124,
     "metadata": {},
     "output_type": "execute_result"
    }
   ],
   "source": [
    "Stats_summary_df.loc[Stats_summary_df.sum(axis=1)>10,]"
   ]
  },
  {
   "cell_type": "code",
   "execution_count": 125,
   "id": "0105658f",
   "metadata": {
    "ExecuteTime": {
     "end_time": "2022-03-22T22:53:27.687999Z",
     "start_time": "2022-03-22T22:53:27.674594Z"
    }
   },
   "outputs": [
    {
     "data": {
      "text/html": [
       "<div>\n",
       "<style scoped>\n",
       "    .dataframe tbody tr th:only-of-type {\n",
       "        vertical-align: middle;\n",
       "    }\n",
       "\n",
       "    .dataframe tbody tr th {\n",
       "        vertical-align: top;\n",
       "    }\n",
       "\n",
       "    .dataframe thead th {\n",
       "        text-align: right;\n",
       "    }\n",
       "</style>\n",
       "<table border=\"1\" class=\"dataframe\">\n",
       "  <thead>\n",
       "    <tr style=\"text-align: right;\">\n",
       "      <th></th>\n",
       "      <th>0</th>\n",
       "      <th>1</th>\n",
       "      <th>2</th>\n",
       "      <th>3</th>\n",
       "      <th>4</th>\n",
       "      <th>5</th>\n",
       "      <th>6</th>\n",
       "      <th>7</th>\n",
       "    </tr>\n",
       "  </thead>\n",
       "  <tbody>\n",
       "    <tr>\n",
       "      <th>20</th>\n",
       "      <td>0</td>\n",
       "      <td>0</td>\n",
       "      <td>14</td>\n",
       "      <td>14</td>\n",
       "      <td>13</td>\n",
       "      <td>0</td>\n",
       "      <td>0</td>\n",
       "      <td>0</td>\n",
       "    </tr>\n",
       "    <tr>\n",
       "      <th>21</th>\n",
       "      <td>0</td>\n",
       "      <td>0</td>\n",
       "      <td>14</td>\n",
       "      <td>14</td>\n",
       "      <td>13</td>\n",
       "      <td>0</td>\n",
       "      <td>0</td>\n",
       "      <td>0</td>\n",
       "    </tr>\n",
       "    <tr>\n",
       "      <th>22</th>\n",
       "      <td>0</td>\n",
       "      <td>0</td>\n",
       "      <td>14</td>\n",
       "      <td>14</td>\n",
       "      <td>13</td>\n",
       "      <td>0</td>\n",
       "      <td>0</td>\n",
       "      <td>0</td>\n",
       "    </tr>\n",
       "  </tbody>\n",
       "</table>\n",
       "</div>"
      ],
      "text/plain": [
       "    0  1   2   3   4  5  6  7\n",
       "20  0  0  14  14  13  0  0  0\n",
       "21  0  0  14  14  13  0  0  0\n",
       "22  0  0  14  14  13  0  0  0"
      ]
     },
     "execution_count": 125,
     "metadata": {},
     "output_type": "execute_result"
    }
   ],
   "source": [
    "Stats_summary_df.loc[Stats_summary_df.sum(axis=1)>40,].head(3)"
   ]
  },
  {
   "cell_type": "code",
   "execution_count": 126,
   "id": "6dc35c39",
   "metadata": {
    "ExecuteTime": {
     "end_time": "2022-03-22T22:53:28.249982Z",
     "start_time": "2022-03-22T22:53:28.228939Z"
    }
   },
   "outputs": [
    {
     "data": {
      "text/html": [
       "<div>\n",
       "<style scoped>\n",
       "    .dataframe tbody tr th:only-of-type {\n",
       "        vertical-align: middle;\n",
       "    }\n",
       "\n",
       "    .dataframe tbody tr th {\n",
       "        vertical-align: top;\n",
       "    }\n",
       "\n",
       "    .dataframe thead th {\n",
       "        text-align: right;\n",
       "    }\n",
       "</style>\n",
       "<table border=\"1\" class=\"dataframe\">\n",
       "  <thead>\n",
       "    <tr style=\"text-align: right;\">\n",
       "      <th></th>\n",
       "      <th>0</th>\n",
       "      <th>1</th>\n",
       "      <th>2</th>\n",
       "      <th>3</th>\n",
       "      <th>4</th>\n",
       "      <th>5</th>\n",
       "      <th>6</th>\n",
       "      <th>7</th>\n",
       "    </tr>\n",
       "  </thead>\n",
       "  <tbody>\n",
       "    <tr>\n",
       "      <th>20</th>\n",
       "      <td>0</td>\n",
       "      <td>0</td>\n",
       "      <td>14</td>\n",
       "      <td>14</td>\n",
       "      <td>13</td>\n",
       "      <td>0</td>\n",
       "      <td>0</td>\n",
       "      <td>0</td>\n",
       "    </tr>\n",
       "    <tr>\n",
       "      <th>21</th>\n",
       "      <td>0</td>\n",
       "      <td>0</td>\n",
       "      <td>14</td>\n",
       "      <td>14</td>\n",
       "      <td>13</td>\n",
       "      <td>0</td>\n",
       "      <td>0</td>\n",
       "      <td>0</td>\n",
       "    </tr>\n",
       "    <tr>\n",
       "      <th>22</th>\n",
       "      <td>0</td>\n",
       "      <td>0</td>\n",
       "      <td>14</td>\n",
       "      <td>14</td>\n",
       "      <td>13</td>\n",
       "      <td>0</td>\n",
       "      <td>0</td>\n",
       "      <td>0</td>\n",
       "    </tr>\n",
       "  </tbody>\n",
       "</table>\n",
       "</div>"
      ],
      "text/plain": [
       "    0  1   2   3   4  5  6  7\n",
       "20  0  0  14  14  13  0  0  0\n",
       "21  0  0  14  14  13  0  0  0\n",
       "22  0  0  14  14  13  0  0  0"
      ]
     },
     "execution_count": 126,
     "metadata": {},
     "output_type": "execute_result"
    }
   ],
   "source": [
    "Stats_summary_df.loc[Stats_summary_df.sum(axis=1)>30,].head(3)"
   ]
  },
  {
   "cell_type": "code",
   "execution_count": 201,
   "id": "7c162bc2",
   "metadata": {
    "ExecuteTime": {
     "end_time": "2022-03-16T20:45:28.002088Z",
     "start_time": "2022-03-16T20:45:27.987119Z"
    }
   },
   "outputs": [],
   "source": [
    "theory_data_point = round(24*60/5)"
   ]
  },
  {
   "cell_type": "code",
   "execution_count": 202,
   "id": "c81ccd2a",
   "metadata": {
    "ExecuteTime": {
     "end_time": "2022-03-16T20:45:28.204448Z",
     "start_time": "2022-03-16T20:45:28.192334Z"
    }
   },
   "outputs": [
    {
     "data": {
      "text/plain": [
       "2.8985714285714286"
      ]
     },
     "execution_count": 202,
     "metadata": {},
     "output_type": "execute_result"
    }
   ],
   "source": [
    "df.shape[0]/14*0.01"
   ]
  },
  {
   "cell_type": "code",
   "execution_count": 203,
   "id": "8e123d02",
   "metadata": {
    "ExecuteTime": {
     "end_time": "2022-03-16T20:45:29.057335Z",
     "start_time": "2022-03-16T20:45:29.045974Z"
    }
   },
   "outputs": [
    {
     "data": {
      "text/plain": [
       "2.88"
      ]
     },
     "execution_count": 203,
     "metadata": {},
     "output_type": "execute_result"
    }
   ],
   "source": [
    "24*60/5*0.01"
   ]
  },
  {
   "cell_type": "markdown",
   "id": "dcaf73d7",
   "metadata": {},
   "source": [
    "### Create Database and Insert Core stats"
   ]
  },
  {
   "cell_type": "code",
   "execution_count": 73,
   "id": "bf0166a6",
   "metadata": {
    "ExecuteTime": {
     "end_time": "2022-03-14T17:29:25.894901Z",
     "start_time": "2022-03-14T17:29:25.884829Z"
    }
   },
   "outputs": [],
   "source": [
    "new_db= db_name+\"_Anomaly_Summary\"\n",
    "# mycursor.execute(\"CREATE DATABASE {}\".format(new_db))\n"
   ]
  },
  {
   "cell_type": "markdown",
   "id": "b28a93ae",
   "metadata": {},
   "source": [
    "# Phrase 2: Business & Analytics and Automation"
   ]
  },
  {
   "cell_type": "markdown",
   "id": "94854465",
   "metadata": {},
   "source": [
    "# Phrase 3: Advanced Anomaly Detection Methods"
   ]
  },
  {
   "cell_type": "markdown",
   "id": "8f69988a",
   "metadata": {},
   "source": [
    "## Time Series"
   ]
  },
  {
   "cell_type": "markdown",
   "id": "ac2b28a1",
   "metadata": {},
   "source": [
    "## Functions need  exploring"
   ]
  },
  {
   "cell_type": "code",
   "execution_count": null,
   "id": "575a549a",
   "metadata": {
    "ExecuteTime": {
     "end_time": "2022-03-14T16:43:34.332243Z",
     "start_time": "2022-03-14T16:43:34.332243Z"
    }
   },
   "outputs": [],
   "source": [
    "#https://github.com/Vicam/Unsupervised_Anomaly_Detection/blob/master/custom_function.py\n",
    "#from pyemma import msm\n",
    "import pandas as pd\n",
    "import numpy as np\n",
    "\n",
    "# return Series of distance between each point and his distance with the closest centroid\n",
    "def getDistanceByPoint(data, model):\n",
    "    distance = pd.Series()\n",
    "    for i in range(0,len(data)):\n",
    "        Xa = np.array(data.loc[i])\n",
    "        Xb = model.cluster_centers_[model.labels_[i]-1]\n",
    "        distance.set_value(i, np.linalg.norm(Xa-Xb))\n",
    "    return distance\n",
    "\n",
    "# train markov model to get transition matrix\n",
    "# def getTransitionMatrix (df):\n",
    "#     df = np.array(df)\n",
    "#     model = msm.estimate_markov_model(df, 1)\n",
    "#     return model.transition_matrix\n",
    "\n",
    "# return the success probability of the state change \n",
    "def successProbabilityMetric(state1, state2, transition_matrix):\n",
    "    proba = 0\n",
    "    for k in range(0,len(transition_matrix)):\n",
    "        if (k != (state2-1)):\n",
    "            proba += transition_matrix[state1-1][k]\n",
    "    return 1-proba\n",
    "\n",
    "# return the success probability of the whole sequence\n",
    "def sucessScore(sequence, transition_matrix):\n",
    "    proba = 0 \n",
    "    for i in range(1,len(sequence)):\n",
    "        if(i == 1):\n",
    "            proba = successProbabilityMetric(sequence[i-1], sequence[i], transition_matrix)\n",
    "        else:\n",
    "            proba = proba*successProbabilityMetric(sequence[i-1], sequence[i], transition_matrix)\n",
    "    return proba\n",
    "\n",
    "# return if the sequence is an anomaly considering a threshold\n",
    "def anomalyElement(sequence, threshold, transition_matrix):\n",
    "    if (sucessScore(sequence, transition_matrix) > threshold):\n",
    "        return 0\n",
    "    else:\n",
    "        return 1\n",
    "\n",
    "# return a dataframe containing anomaly result for the whole dataset \n",
    "# choosing a sliding windows size (size of sequence to evaluate) and a threshold\n",
    "def markovAnomaly(df, windows_size, threshold):\n",
    "    transition_matrix = getTransitionMatrix(df)\n",
    "    real_threshold = threshold**windows_size\n",
    "    df_anomaly = []\n",
    "    for j in range(0, len(df)):\n",
    "        if (j < windows_size):\n",
    "            df_anomaly.append(0)\n",
    "        else:\n",
    "            sequence = df[j-windows_size:j]\n",
    "            sequence = sequence.reset_index(drop=True)\n",
    "            df_anomaly.append(anomalyElement(sequence, real_threshold, transition_matrix))\n",
    "    return df_anomaly"
   ]
  },
  {
   "cell_type": "code",
   "execution_count": 84,
   "id": "66b47fd0",
   "metadata": {
    "ExecuteTime": {
     "end_time": "2022-03-14T19:32:01.731088Z",
     "start_time": "2022-03-14T19:32:01.700452Z"
    }
   },
   "outputs": [
    {
     "name": "stdout",
     "output_type": "stream",
     "text": [
      "-39.82363313253761\n"
     ]
    },
    {
     "data": {
      "text/plain": [
       "[87.05098068073669,\n",
       " -44.50153689442895,\n",
       " 83.06030704640155,\n",
       " -66.2397851634998,\n",
       " 80.32570363471504,\n",
       " -44.570131314635844,\n",
       " 84.44012343151162,\n",
       " -42.42153550973904,\n",
       " 88.7214983083458,\n",
       " 87.13051025606175,\n",
       " 85.49807199793064,\n",
       " -54.02755858804922,\n",
       " 82.48852319426348,\n",
       " -44.65543350512681,\n",
       " -43.18472806447021,\n",
       " -40.29403314504932,\n",
       " -42.919128747846045,\n",
       " -44.897535595540106,\n",
       " -40.868015429640685,\n",
       " -42.798424993729675,\n",
       " 83.40701363312897,\n",
       " 80.33833211379071,\n",
       " 84.1114087762238,\n",
       " 83.0120430284039,\n",
       " 97.62419386997476,\n",
       " -60.50883734702492,\n",
       " 103.69500796372314,\n",
       " -44.29664474040774,\n",
       " -44.853050446629524,\n",
       " -42.1225677943949,\n",
       " -41.14645771764991,\n",
       " 98.35518352956501,\n",
       " 85.09872804886461,\n",
       " -42.60710742245901,\n",
       " -40.64859337285825,\n",
       " -52.88032113057588,\n",
       " 81.26374224411121,\n",
       " 80.20948083017932,\n",
       " 81.40675098220848,\n",
       " -39.93653210554128,\n",
       " -47.27608096626108,\n",
       " 96.36570823350168,\n",
       " -47.61081739694775,\n",
       " -54.47613329820615,\n",
       " -44.62147013738333,\n",
       " 83.28833528321165,\n",
       " -71.52825426730372,\n",
       " -59.13533470356104,\n",
       " 99.62069702676614,\n",
       " -40.33932905849407,\n",
       " 83.11850096601802,\n",
       " -50.600129271590106,\n",
       " 88.23233966061721,\n",
       " -44.63046026283831,\n",
       " 83.54635553383048,\n",
       " -42.51787898330268,\n",
       " 82.26230841174004,\n",
       " -48.67341740255449,\n",
       " -45.536998039669484,\n",
       " 82.18821097710737,\n",
       " -47.06950188440683,\n",
       " -46.01103552769594,\n",
       " 80.15135180621687,\n",
       " -55.794969849568986,\n",
       " -44.85221674508131,\n",
       " 81.5458274682919,\n",
       " 87.00806284676474,\n",
       " 81.90952699264398,\n",
       " 89.84488970733834,\n",
       " 105.1861406436774,\n",
       " 85.64037230779871,\n",
       " 80.11265847038243,\n",
       " 98.46094404312521,\n",
       " -40.41065069419322,\n",
       " -55.571369007131764,\n",
       " -45.36724448036334,\n",
       " 85.39346891641647,\n",
       " 92.42646951615018,\n",
       " 86.24489267677932,\n",
       " 83.48803238882151,\n",
       " 81.37412427047518,\n",
       " 80.94271650053116,\n",
       " -61.193653543966434,\n",
       " -62.79269332378861,\n",
       " -47.283284921070944,\n",
       " 81.71116310241831,\n",
       " 83.68169766962428,\n",
       " 82.86616845844269,\n",
       " 87.2612937702737,\n",
       " -51.36756004516754,\n",
       " 82.78864613967801,\n",
       " -45.15344357460742,\n",
       " 100.79120705502184,\n",
       " 114.79472618411565,\n",
       " 82.77917902480056,\n",
       " -39.84723347631529,\n",
       " -40.30773911126861,\n",
       " -43.078861354781424,\n",
       " 80.92954237217587,\n",
       " 89.87649377426418,\n",
       " -45.69532857415436,\n",
       " 81.78573141245502,\n",
       " 91.55695312134097,\n",
       " -51.961081481999486,\n",
       " -48.44335010637036,\n",
       " 80.3127355884623,\n",
       " -53.252599449750235,\n",
       " -42.91493206113963,\n",
       " 81.67446103058057,\n",
       " 89.26852294775183,\n",
       " 80.77695563244444,\n",
       " 91.81600057778469,\n",
       " -40.304951700765024,\n",
       " 83.44266134927224,\n",
       " 92.89338940561217,\n",
       " -51.74043996208215,\n",
       " 80.36936679623483,\n",
       " 87.22857771012333,\n",
       " 82.94537243525164,\n",
       " -52.35899260509474,\n",
       " -46.24255088735693,\n",
       " 80.00290737446602,\n",
       " -41.49827810555923,\n",
       " 103.25318858661359,\n",
       " 81.72876908190878,\n",
       " 83.7389801299488,\n",
       " -49.92490575019984,\n",
       " -42.732433137991855,\n",
       " 85.93463531291074]"
      ]
     },
     "execution_count": 84,
     "metadata": {},
     "output_type": "execute_result"
    }
   ],
   "source": [
    "import numpy as np\n",
    "import matplotlib.pyplot as plt\n",
    "\n",
    "\n",
    "# multiply and add by random numbers to get some real values\n",
    "data = np.random.randn(50000)  * 20 + 20\n",
    "\n",
    "# Function to Detection Outlier on one-dimentional datasets.\n",
    "def find_anomalies(data):\n",
    "    #define a list to accumlate anomalies\n",
    "    anomalies = []\n",
    "    \n",
    "    # Set upper and lower limit to 3 standard deviation\n",
    "    data_std = np.std(data)\n",
    "    data_mean = np.mean(data)\n",
    "    anomaly_cut_off = data_std * 3\n",
    "    \n",
    "    lower_limit  = data_mean - anomaly_cut_off \n",
    "    upper_limit = data_mean + anomaly_cut_off\n",
    "    print(lower_limit)\n",
    "    # Generate outliers\n",
    "    \n",
    "    for outlier in data:\n",
    "        if outlier > upper_limit or outlier < lower_limit:\n",
    "            anomalies.append(outlier)\n",
    "    return anomalies\n",
    "\n",
    "find_anomalies(data)"
   ]
  }
 ],
 "metadata": {
  "kernelspec": {
   "display_name": "Python 3 (ipykernel)",
   "language": "python",
   "name": "python3"
  },
  "language_info": {
   "codemirror_mode": {
    "name": "ipython",
    "version": 3
   },
   "file_extension": ".py",
   "mimetype": "text/x-python",
   "name": "python",
   "nbconvert_exporter": "python",
   "pygments_lexer": "ipython3",
   "version": "3.9.7"
  },
  "toc": {
   "base_numbering": 1,
   "nav_menu": {},
   "number_sections": true,
   "sideBar": true,
   "skip_h1_title": false,
   "title_cell": "Table of Contents",
   "title_sidebar": "Contents",
   "toc_cell": false,
   "toc_position": {
    "height": "637.333px",
    "left": "26px",
    "top": "111.125px",
    "width": "331.844px"
   },
   "toc_section_display": true,
   "toc_window_display": false
  }
 },
 "nbformat": 4,
 "nbformat_minor": 5
}
