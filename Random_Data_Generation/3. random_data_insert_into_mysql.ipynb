{
 "cells": [
  {
   "cell_type": "code",
   "execution_count": null,
   "id": "4de6a441",
   "metadata": {
    "ExecuteTime": {
     "start_time": "2022-07-18T21:38:22.751Z"
    }
   },
   "outputs": [],
   "source": [
    "import os\n",
    "import time\n",
    "from prometheus_client import start_http_server, Gauge, Enum\n",
    "import requests\n",
    "import json\n",
    "import mysql.connector\n",
    "import pandas as pd\n",
    "from jproperties import Properties\n",
    "import datetime\n",
    "\n",
    "debug= True\n",
    "\n",
    "configs = Properties()\n",
    "\n",
    "if debug:\n",
    "    with open('gyan-core-agent-rand.properties', 'rb') as read_prop:\n",
    "        configs.load(read_prop)\n",
    "else:\n",
    "    with open('/opt/gyan/core/gyan-core-agent-rand-V2/gyan-core-agent-rand.properties', 'rb') as read_prop:\n",
    "        configs.load(read_prop)\n",
    "\n",
    "db_configs_dict = {}\n",
    "items_view = configs.items()\n",
    "for item in items_view:\n",
    "    db_configs_dict[item[0]] = item[1].data\n",
    "\n",
    "\n",
    "polling_interval_seconds = int(db_configs_dict[\"POLLING_INTERVAL_SECONDS\"])\n",
    "\n",
    "exporter_port = int(db_configs_dict[\"APP_PORT\"])\n",
    "\n",
    "host= str(db_configs_dict[\"db_host\"])\n",
    "db_name = str(db_configs_dict[\"db_name\"])\n",
    "password = str(db_configs_dict[\"db_password\"])\n",
    "database = str(db_configs_dict[\"db_database_name\"])\n",
    "user = str(db_configs_dict[\"db_user\"])\n",
    "\n",
    "client_name = str(db_configs_dict[\"client_name\"])\n",
    "column_names = db_configs_dict[\"column_name\"].split(\",\")\n",
    "\n",
    "\n",
    "\n",
    "db_connection = mysql.connector.connect(\n",
    "    host=host,\n",
    "    user=user,\n",
    "    password=password,\n",
    "    database=database\n",
    ")\n",
    "\n",
    "debug=True\n",
    "#load json\n",
    "if debug == True:\n",
    "    json_location = str(db_configs_dict[\"json_location\"])\n",
    "else:\n",
    "    json_location = str(db_configs_dict[\"folder_location\"]) + str(db_configs_dict[\"json_location\"])\n",
    "\n",
    "\n",
    "while True:\n",
    "    cursor = db_connection.cursor()\n",
    "\n",
    "    # Get timestamp value\n",
    "    current_timestamp = datetime.datetime.now()\n",
    "    \n",
    "    # Get Json Peak upload speed value\n",
    "    f = open(json_location)\n",
    "    data = json.load(f)\n",
    "\n",
    "    total_attached_user  = data[client_name+\"_1_\"+column_names[0]]\n",
    "    total_rejected_user = data[client_name+\"_1_\"+column_names[1]]\n",
    "    peak_upload_speed = data[client_name+\"_1_\"+column_names[3]]\n",
    "\n",
    "    peak_download_speed  = data[client_name+\"_1_\"+column_names[2]]\n",
    "    enodeb_shutdown_count = data[client_name+\"_1_\"+column_names[4]]\n",
    "    handoverFailureCount = data[client_name+\"_1_\"+column_names[5]]\n",
    "\n",
    "    totalBearerActiveUser  = data[client_name+\"_1_\"+column_names[6]]\n",
    "    totalBearerRejectedUser = data[client_name+\"_1_\"+column_names[7]]\n",
    "    total_dropped_packets = data[client_name+\"_1_\"+column_names[8]]\n",
    "\n",
    "    total_users  = data[client_name+\"_1_\"+column_names[9]]\n",
    "    enodeb_connected_count = data[client_name+\"_1_\"+column_names[10]]\n",
    "    enodeb_connection_status = data[client_name+\"_1_\"+column_names[11]]\n",
    "\n",
    "\n",
    "    \n",
    "    # SQL query and values\n",
    "    MySQL_insert_query = \"INSERT INTO core_stats (client_id, stats_timestamp, total_attached_user, total_rejected_user, peak_upload_speed, peak_download_speed, enodeb_shutdown_count,handover_failure_count,bearer_active_user_count,bearer_rejected_user_count,total_users,total_dropped_packets,enodeb_connected_count,enodeb_connection_status) VALUES (%s, %s, %s, %s, %s, %s, %s,%s,%s, %s, %s, %s, %s,%s)\"\n",
    "\n",
    "    the_value = (client_name, str(current_timestamp), total_attached_user, total_rejected_user, peak_upload_speed,peak_download_speed,\n",
    "                enodeb_shutdown_count,   handoverFailureCount, totalBearerActiveUser, totalBearerRejectedUser, total_dropped_packets,  total_users, enodeb_connected_count,enodeb_connection_status)\n",
    "    \n",
    "    # Insert Command\n",
    "    cursor.execute(MySQL_insert_query, the_value)\n",
    "    # try:\n",
    "    db_connection.commit()\n",
    "    cursor.close()\n",
    "    \n",
    "    if debug:\n",
    "        time.sleep(10)\n",
    "    else:\n",
    "        \n",
    "        time.sleep(120)\n",
    "    \n"
   ]
  },
  {
   "cell_type": "code",
   "execution_count": 2,
   "id": "d0bde33d",
   "metadata": {
    "ExecuteTime": {
     "end_time": "2022-07-18T21:22:42.506416Z",
     "start_time": "2022-07-18T21:22:42.469487Z"
    }
   },
   "outputs": [],
   "source": [
    "from jproperties import Properties\n",
    "\n",
    "configs = Properties()\n",
    "\n",
    "with open('gyan-core-agent-rand.properties', 'rb') as read_prop:\n",
    "    configs.load(read_prop)\n",
    "\n",
    "db_configs_dict = {}\n",
    "items_view = configs.items()\n",
    "for item in items_view:\n",
    "    db_configs_dict[item[0]] = item[1].data\n",
    "\n",
    "json_location = str(db_configs_dict[\"json_location\"])\n",
    "f = open(json_location)\n",
    "data = json.load(f)\n",
    "polling_interval_seconds = int(db_configs_dict[\"POLLING_INTERVAL_SECONDS\"])\n",
    "\n",
    "exporter_port = int(db_configs_dict[\"APP_PORT\"])\n",
    "\n",
    "host= str(db_configs_dict[\"db_host\"])\n",
    "db_name = str(db_configs_dict[\"db_name\"])\n",
    "password = str(db_configs_dict[\"db_password\"])\n",
    "database = str(db_configs_dict[\"db_database_name\"])\n",
    "user = str(db_configs_dict[\"db_user\"])\n",
    "\n",
    "client_name = str(db_configs_dict[\"client_name\"])\n",
    "column_names = db_configs_dict[\"column_name\"].split(\",\")\n",
    "total_attached_user  = data[client_name+\"_1_\"+column_names[0]]\n",
    "total_rejected_user = data[client_name+\"_1_\"+column_names[1]]\n",
    "peak_upload_speed = data[client_name+\"_1_\"+column_names[3]]\n",
    "\n",
    "peak_download_speed  = data[client_name+\"_1_\"+column_names[2]]\n",
    "enodeb_shutdown_count = data[client_name+\"_1_\"+column_names[4]]\n",
    "handoverFailureCount = data[client_name+\"_1_\"+column_names[5]]\n",
    "\n",
    "totalBearerActiveUser  = data[client_name+\"_1_\"+column_names[6]]\n",
    "totalBearerRejectedUser = data[client_name+\"_1_\"+column_names[7]]\n",
    "total_dropped_packets = data[client_name+\"_1_\"+column_names[8]]\n",
    "\n",
    "total_users  = data[client_name+\"_1_\"+column_names[9]]\n",
    "enodeb_connected_count = data[client_name+\"_1_\"+column_names[10]]\n",
    "enodeb_connection_status = data[client_name+\"_1_\"+column_names[11]]\n"
   ]
  },
  {
   "cell_type": "code",
   "execution_count": null,
   "id": "418e0d9f",
   "metadata": {
    "ExecuteTime": {
     "start_time": "2022-07-18T16:36:40.966Z"
    }
   },
   "outputs": [],
   "source": [
    "total_users"
   ]
  },
  {
   "cell_type": "code",
   "execution_count": null,
   "id": "66cf8fd3",
   "metadata": {
    "ExecuteTime": {
     "start_time": "2022-07-18T16:36:40.969Z"
    }
   },
   "outputs": [],
   "source": [
    "column_names"
   ]
  },
  {
   "cell_type": "code",
   "execution_count": null,
   "id": "d3bb8d21",
   "metadata": {
    "ExecuteTime": {
     "start_time": "2022-07-18T16:36:40.972Z"
    }
   },
   "outputs": [],
   "source": [
    "data"
   ]
  },
  {
   "cell_type": "code",
   "execution_count": 3,
   "id": "523eef2c",
   "metadata": {
    "ExecuteTime": {
     "end_time": "2022-07-18T21:22:51.558030Z",
     "start_time": "2022-07-18T21:22:51.548350Z"
    }
   },
   "outputs": [],
   "source": [
    "the_value = (client_name, str(current_timestamp), total_attached_user, total_rejected_user, peak_upload_speed,peak_download_speed,\n",
    "            enodeb_shutdown_count,   handoverFailureCount, totalBearerActiveUser, totalBearerRejectedUser, total_dropped_packets,  total_users, enodeb_connected_count,enodeb_connection_status)\n"
   ]
  },
  {
   "cell_type": "code",
   "execution_count": 5,
   "id": "6deee63e",
   "metadata": {
    "ExecuteTime": {
     "end_time": "2022-07-18T21:22:58.946934Z",
     "start_time": "2022-07-18T21:22:58.939408Z"
    }
   },
   "outputs": [
    {
     "data": {
      "text/plain": [
       "tuple"
      ]
     },
     "execution_count": 5,
     "metadata": {},
     "output_type": "execute_result"
    }
   ],
   "source": []
  },
  {
   "cell_type": "code",
   "execution_count": null,
   "id": "a7ca735d",
   "metadata": {},
   "outputs": [],
   "source": []
  }
 ],
 "metadata": {
  "kernelspec": {
   "display_name": "Python 3 (ipykernel)",
   "language": "python",
   "name": "python3"
  },
  "language_info": {
   "codemirror_mode": {
    "name": "ipython",
    "version": 3
   },
   "file_extension": ".py",
   "mimetype": "text/x-python",
   "name": "python",
   "nbconvert_exporter": "python",
   "pygments_lexer": "ipython3",
   "version": "3.9.7"
  },
  "toc": {
   "base_numbering": 1,
   "nav_menu": {},
   "number_sections": true,
   "sideBar": true,
   "skip_h1_title": false,
   "title_cell": "Table of Contents",
   "title_sidebar": "Contents",
   "toc_cell": false,
   "toc_position": {},
   "toc_section_display": true,
   "toc_window_display": false
  }
 },
 "nbformat": 4,
 "nbformat_minor": 5
}
