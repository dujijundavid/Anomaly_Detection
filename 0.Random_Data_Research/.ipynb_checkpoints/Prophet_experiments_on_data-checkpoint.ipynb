{
 "cells": [
  {
   "cell_type": "markdown",
   "id": "c0ba2f03",
   "metadata": {},
   "source": [
    "# Notebook Summary\n",
    "**Goal:** \n",
    "Apply anomaly detection using Prophet for Betacom Data. \n",
    "\n",
    "For a column of interest, e.g. **peak_upload_speed** from Customer-DFW, we use past upload data to make prediction for a future data point, and detect whether the actual data falls outside prediction upperbond or lowerbond. In the end, graphs for labeled Anomalies will be plot.\n",
    "\n",
    "\n",
    "\n",
    "**Prophet Algorithm Documentation:**\n",
    "\n",
    "Link: https://facebook.github.io/prophet/docs/quick_start.html\n",
    "\n",
    "\n",
    "\n",
    "**Input 3 Datasets:** \n",
    "- Gyan-Database: core_stats (RAN data)\n",
    "- Gyan-Database: randomized core_stats\n",
    "- Prometheus Database: **discard** now due to low data quality\n",
    "\n",
    "**Output:**\n",
    "1. Anomaly graphs generate for each column.\n",
    "2. Prediction for featured Dataframe\n",
    "\n",
    "\n",
    "\n",
    "\n",
    "**Notebook Outline:**\n",
    "1. Functions using Prophet\n",
    "\n",
    " * fit_predict_model:\n",
    "     - Build a Prophet Model\n",
    "     - Fit the model\n",
    "     - Make prediction \n",
    " * detect_anomalies: \n",
    "\n",
    "2. Retrieve Data from CORE_stats customer data\n",
    "3. Retrieve Data from CORE_stats randomized Data\n",
    "4. Apply prediction and anomaly labeling for multiple columns and save graphs"
   ]
  },
  {
   "cell_type": "markdown",
   "id": "6c031959",
   "metadata": {},
   "source": [
    "## Prophet Functions"
   ]
  },
  {
   "cell_type": "code",
   "execution_count": 1,
   "id": "45fe23ca",
   "metadata": {
    "ExecuteTime": {
     "end_time": "2022-09-21T17:39:41.818469Z",
     "start_time": "2022-09-21T17:39:40.699822Z"
    }
   },
   "outputs": [],
   "source": [
    "from prophet import Prophet\n",
    "\n",
    "\n",
    "def fit_predict_model(dataframe, interval_width=0.99, changepoint_range=0.8):\n",
    "    '''\n",
    "        Input: \n",
    "\n",
    "        Output: a forecasted dataframe includes\n",
    "\n",
    "    '''\n",
    "\n",
    "    m = Prophet(daily_seasonality=True, yearly_seasonality=True, weekly_seasonality=True,\n",
    "                seasonality_mode='multiplicative',\n",
    "                interval_width=interval_width,\n",
    "                changepoint_range=changepoint_range)\n",
    "    m = m.fit(dataframe)\n",
    "    forecast = m.predict(dataframe)\n",
    "    forecast['fact'] = dataframe['y'].reset_index(drop=True)\n",
    "    return forecast\n",
    "\n",
    "def detect_anomalies(forecast):\n",
    "    '''\n",
    "    What it does:  based on rule: label anomaly data point based on whether the actual data is greater than the upper bond of prediction or smaller than the lower bond of the prediction.\n",
    "\n",
    "    Input: forecast dataframe from Prophet model.\n",
    "    Output: forecast dataframe with anomlies labeled. \n",
    "\n",
    "    '''\n",
    "    forecasted = forecast[['ds', 'trend', 'yhat',\n",
    "                           'yhat_lower', 'yhat_upper', 'fact']].copy()\n",
    "\n",
    "    forecasted['anomaly'] = 0\n",
    "    forecasted.loc[forecasted['fact'] >\n",
    "                   forecasted['yhat_upper'], 'anomaly'] = 1\n",
    "    forecasted.loc[forecasted['fact'] <\n",
    "                   forecasted['yhat_lower'], 'anomaly'] = -1\n",
    "\n",
    "    # anomaly importances\n",
    "    forecasted['importance'] = 0\n",
    "    forecasted.loc[forecasted['anomaly'] == 1, 'importance'] = \\\n",
    "        (forecasted['fact'] - forecasted['yhat_upper'])/forecast['fact']\n",
    "    forecasted.loc[forecasted['anomaly'] == -1, 'importance'] = \\\n",
    "        (forecasted['yhat_lower'] - forecasted['fact'])/forecast['fact']\n",
    "\n",
    "    return forecasted\n",
    "\n",
    "\n",
    "\n",
    "\n",
    "\n",
    "def plot_anomalies(forecasted):\n",
    "    '''\n",
    "\n",
    "    '''\n",
    "    import altair as alt\n",
    "    interval = alt.Chart(forecasted).mark_area(interpolate=\"basis\", color='#7FC97F').encode(\n",
    "        x=alt.X('ds:T',  title='date'),\n",
    "        y='yhat_upper',\n",
    "        y2='yhat_lower',\n",
    "        tooltip=['ds', 'fact', 'yhat_lower', 'yhat_upper']\n",
    "    ).interactive().properties(\n",
    "        title='Anomaly Detection'\n",
    "    )\n",
    "\n",
    "    fact = alt.Chart(forecasted[forecasted.anomaly == 0]).mark_circle(size=15, opacity=0.7, color='Black').encode(\n",
    "        x='ds:T',\n",
    "        y=alt.Y('fact', title='sales'),\n",
    "        tooltip=['ds', 'fact', 'yhat_lower', 'yhat_upper']\n",
    "    ).interactive()\n",
    "\n",
    "    anomalies = alt.Chart(forecasted[forecasted.anomaly != 0]).mark_circle(size=30, color='Red').encode(\n",
    "        x='ds:T',\n",
    "        y=alt.Y('fact', title='PeakUpload Speed'),\n",
    "        tooltip=['ds', 'fact', 'yhat_lower', 'yhat_upper'],\n",
    "        size=alt.Size('importance', legend=None)\n",
    "    ).interactive()\n",
    "\n",
    "    return alt.layer(interval, fact, anomalies)\\\n",
    "              .properties(width=870, height=450)\\\n",
    "              .configure_title(fontSize=20)"
   ]
  },
  {
   "cell_type": "markdown",
   "id": "469fdfff",
   "metadata": {},
   "source": [
    "## Load Core_stats from Database"
   ]
  },
  {
   "cell_type": "code",
   "execution_count": 8,
   "id": "e8181a23",
   "metadata": {
    "ExecuteTime": {
     "end_time": "2022-09-21T17:40:08.706238Z",
     "start_time": "2022-09-21T17:40:08.626842Z"
    }
   },
   "outputs": [],
   "source": [
    "import numpy as np\n",
    "import mysql.connector\n",
    "import pandas as pd\n",
    "from pandas_profiling import ProfileReport\n",
    "\n",
    "df = pd.read_csv(\"Existing_rand_data_after_July15.csv\")\n"
   ]
  },
  {
   "cell_type": "code",
   "execution_count": 10,
   "id": "0102d2eb",
   "metadata": {
    "ExecuteTime": {
     "end_time": "2022-09-21T17:40:29.252093Z",
     "start_time": "2022-09-21T17:40:29.237178Z"
    }
   },
   "outputs": [],
   "source": [
    "df=df[30000:].reset_index(drop=True)"
   ]
  },
  {
   "cell_type": "markdown",
   "id": "6f929f00",
   "metadata": {},
   "source": [
    "### Anomaly Detection Graph"
   ]
  },
  {
   "cell_type": "code",
   "execution_count": 11,
   "id": "924d25b2",
   "metadata": {
    "ExecuteTime": {
     "end_time": "2022-09-21T17:40:30.235463Z",
     "start_time": "2022-09-21T17:40:30.213470Z"
    }
   },
   "outputs": [],
   "source": [
    "rand_list = ['total_attached_user',\n",
    "             'total_rejected_user', 'peak_upload_speed', 'peak_download_speed',\n",
    "             'enodeb_shutdown_count', 'handover_failure_count',\n",
    "             'bearer_active_user_count', 'bearer_rejected_user_count', 'total_users',\n",
    "             'total_dropped_packets', 'enodeb_connected_count',\n",
    "             'enodeb_connection_status']"
   ]
  },
  {
   "cell_type": "markdown",
   "id": "4d7d40f7",
   "metadata": {},
   "source": [
    "#### Anomaly Graph V1"
   ]
  },
  {
   "cell_type": "code",
   "execution_count": null,
   "id": "626ced70",
   "metadata": {
    "ExecuteTime": {
     "start_time": "2022-09-21T17:40:31.073Z"
    }
   },
   "outputs": [
    {
     "name": "stderr",
     "output_type": "stream",
     "text": [
      "C:\\Users\\Jijun Du\\anaconda3\\lib\\site-packages\\prophet\\forecaster.py:896: FutureWarning: The frame.append method is deprecated and will be removed from pandas in a future version. Use pandas.concat instead.\n",
      "  components = components.append(new_comp)\n",
      "C:\\Users\\Jijun Du\\anaconda3\\lib\\site-packages\\prophet\\forecaster.py:896: FutureWarning: The frame.append method is deprecated and will be removed from pandas in a future version. Use pandas.concat instead.\n",
      "  components = components.append(new_comp)\n",
      "C:\\Users\\Jijun Du\\anaconda3\\lib\\site-packages\\prophet\\forecaster.py:896: FutureWarning: The frame.append method is deprecated and will be removed from pandas in a future version. Use pandas.concat instead.\n",
      "  components = components.append(new_comp)\n"
     ]
    },
    {
     "name": "stdout",
     "output_type": "stream",
     "text": [
      "Anomaly rate is:  -0.001984126984126984\n"
     ]
    }
   ],
   "source": [
    "for item in rand_list:\n",
    "\n",
    "    df_rand_prophet = df[[\"stats_timestamp\", item]].rename(\n",
    "        columns={\"stats_timestamp\": \"ds\", item: \"y\"})\n",
    "    pred = fit_predict_model(df_rand_prophet)\n",
    "    pred_anomalies = detect_anomalies(pred)\n",
    "    print(\"Anomaly rate is: \",\n",
    "          pred_anomalies[\"anomaly\"].sum()/pred_anomalies.shape[0])\n",
    "\n",
    "    chart = plot_anomalies(pred_anomalies[:5000])\n",
    "\n",
    "    chart.save('Anomaly_graphs/V1_No_Distribution/Anomaly_{}.html'.format(item))"
   ]
  },
  {
   "cell_type": "code",
   "execution_count": null,
   "id": "c5abb93c",
   "metadata": {
    "ExecuteTime": {
     "start_time": "2022-09-21T17:38:32.894Z"
    }
   },
   "outputs": [],
   "source": [
    "for item in rand_list:\n",
    "\n",
    "    df_rand_prophet = df[[\"stats_timestamp\", item]].rename(\n",
    "        columns={\"stats_timestamp\": \"ds\", item: \"y\"})\n",
    "    pred = fit_predict_model(df_rand_prophet)\n",
    "    pred_anomalies = detect_anomalies(pred)\n",
    "    print(\"Anomaly rate is: \",\n",
    "          pred_anomalies[\"anomaly\"].sum()/pred_anomalies.shape[0])\n",
    "\n",
    "    chart = plot_anomalies(pred_anomalies[5000:10000])\n",
    "\n",
    "    chart.save('Anomaly_graphs/V1_Long_period_anomalies/Anomaly_{}.html'.format(item))"
   ]
  },
  {
   "cell_type": "markdown",
   "id": "68021e46",
   "metadata": {},
   "source": [
    "## Anomaly Graph V2"
   ]
  },
  {
   "cell_type": "code",
   "execution_count": null,
   "id": "ef130732",
   "metadata": {},
   "outputs": [],
   "source": [
    "for item in rand_list:\n",
    "\n",
    "    df_rand_prophet = df_rand[[\"stats_timestamp\", item]].rename(\n",
    "        columns={\"stats_timestamp\": \"ds\", item: \"y\"})\n",
    "    pred = fit_predict_model(df_rand_prophet)\n",
    "    pred_anomalies = detect_anomalies(pred)\n",
    "    print(\"Anomaly rate is: \",\n",
    "          pred_anomalies[\"anomaly\"].sum()/pred_anomalies.shape[0])\n",
    "\n",
    "    chart = plot_anomalies(pred_anomalies[:5000])\n",
    "    \n",
    "    chart.save('Anomaly_graphs/V1_No_Distribution/Anomaly_{}.html'.format(item))"
   ]
  },
  {
   "cell_type": "markdown",
   "id": "8c0795cc",
   "metadata": {},
   "source": [
    "## Insert Database Option\n",
    "\n",
    "For items in Interested Columns, "
   ]
  },
  {
   "cell_type": "code",
   "execution_count": null,
   "id": "0e72690d",
   "metadata": {},
   "outputs": [],
   "source": [
    "df_rand_prophet = df_rand[[\"stats_timestamp\", item]].rename(\n",
    "        columns={\"stats_timestamp\": \"ds\", item: \"y\"})\n",
    "    pred = fit_predict_model(df_rand_prophet)\n",
    "    pred_anomalies = detect_anomalies(pred)\n",
    "    print(\"Anomaly rate is: \",\n",
    "          pred_anomalies[\"anomaly\"].sum()/pred_anomalies.shape[0])\n",
    "\n",
    "    chart = plot_anomalies(pred_anomalies[:5000])"
   ]
  },
  {
   "cell_type": "code",
   "execution_count": 95,
   "id": "7ad2cbf1",
   "metadata": {
    "ExecuteTime": {
     "end_time": "2022-07-22T22:32:39.969352Z",
     "start_time": "2022-07-22T22:32:38.672592Z"
    }
   },
   "outputs": [
    {
     "name": "stdout",
     "output_type": "stream",
     "text": [
      "Anomaly rate is:  0.0033400133600534404\n"
     ]
    }
   ],
   "source": [
    "\n",
    "item= \"peak_upload_speed\"\n",
    "df_rand_prophet = df_rand[[\"stats_timestamp\", item]].rename(\n",
    "    columns={\"stats_timestamp\": \"ds\", item: \"y\"})\n",
    "pred = fit_predict_model(df_rand_prophet)\n",
    "pred_anomalies = detect_anomalies(pred)\n",
    "print(\"Anomaly rate is: \",\n",
    "      pred_anomalies[\"anomaly\"].sum()/pred_anomalies.shape[0])\n",
    "\n",
    "chart = plot_anomalies(pred_anomalies[:5000])\n",
    "\n",
    "anomaly_df = pred_anomalies[(pred_anomalies[\"anomaly\"]==-1) | (pred_anomalies[\"anomaly\"]==1)]"
   ]
  },
  {
   "cell_type": "code",
   "execution_count": 96,
   "id": "7959b03f",
   "metadata": {
    "ExecuteTime": {
     "end_time": "2022-07-22T22:32:39.984308Z",
     "start_time": "2022-07-22T22:32:39.971263Z"
    }
   },
   "outputs": [
    {
     "data": {
      "text/html": [
       "<div>\n",
       "<style scoped>\n",
       "    .dataframe tbody tr th:only-of-type {\n",
       "        vertical-align: middle;\n",
       "    }\n",
       "\n",
       "    .dataframe tbody tr th {\n",
       "        vertical-align: top;\n",
       "    }\n",
       "\n",
       "    .dataframe thead th {\n",
       "        text-align: right;\n",
       "    }\n",
       "</style>\n",
       "<table border=\"1\" class=\"dataframe\">\n",
       "  <thead>\n",
       "    <tr style=\"text-align: right;\">\n",
       "      <th></th>\n",
       "      <th>ds</th>\n",
       "      <th>trend</th>\n",
       "      <th>yhat</th>\n",
       "      <th>yhat_lower</th>\n",
       "      <th>yhat_upper</th>\n",
       "      <th>fact</th>\n",
       "      <th>anomaly</th>\n",
       "      <th>importance</th>\n",
       "    </tr>\n",
       "  </thead>\n",
       "  <tbody>\n",
       "    <tr>\n",
       "      <th>675</th>\n",
       "      <td>2022-07-15 13:25:29</td>\n",
       "      <td>35991.326482</td>\n",
       "      <td>35991.326482</td>\n",
       "      <td>20500.508749</td>\n",
       "      <td>53302.046471</td>\n",
       "      <td>54253</td>\n",
       "      <td>1</td>\n",
       "      <td>0.017528</td>\n",
       "    </tr>\n",
       "    <tr>\n",
       "      <th>676</th>\n",
       "      <td>2022-07-15 13:27:29</td>\n",
       "      <td>35995.512518</td>\n",
       "      <td>35995.512518</td>\n",
       "      <td>18951.339387</td>\n",
       "      <td>53536.415590</td>\n",
       "      <td>56518</td>\n",
       "      <td>1</td>\n",
       "      <td>0.052755</td>\n",
       "    </tr>\n",
       "    <tr>\n",
       "      <th>679</th>\n",
       "      <td>2022-07-15 13:31:17</td>\n",
       "      <td>36003.465986</td>\n",
       "      <td>36003.465986</td>\n",
       "      <td>18133.423094</td>\n",
       "      <td>53664.654425</td>\n",
       "      <td>72806</td>\n",
       "      <td>1</td>\n",
       "      <td>0.262909</td>\n",
       "    </tr>\n",
       "    <tr>\n",
       "      <th>680</th>\n",
       "      <td>2022-07-15 13:33:17</td>\n",
       "      <td>36007.652022</td>\n",
       "      <td>36007.652022</td>\n",
       "      <td>18899.857879</td>\n",
       "      <td>52898.481748</td>\n",
       "      <td>59495</td>\n",
       "      <td>1</td>\n",
       "      <td>0.110875</td>\n",
       "    </tr>\n",
       "    <tr>\n",
       "      <th>681</th>\n",
       "      <td>2022-07-15 13:35:17</td>\n",
       "      <td>36011.838058</td>\n",
       "      <td>36011.838058</td>\n",
       "      <td>18774.739125</td>\n",
       "      <td>51968.900169</td>\n",
       "      <td>71954</td>\n",
       "      <td>1</td>\n",
       "      <td>0.277748</td>\n",
       "    </tr>\n",
       "    <tr>\n",
       "      <th>682</th>\n",
       "      <td>2022-07-15 13:37:17</td>\n",
       "      <td>36016.024094</td>\n",
       "      <td>36016.024094</td>\n",
       "      <td>20070.096780</td>\n",
       "      <td>53194.739013</td>\n",
       "      <td>62885</td>\n",
       "      <td>1</td>\n",
       "      <td>0.154095</td>\n",
       "    </tr>\n",
       "    <tr>\n",
       "      <th>683</th>\n",
       "      <td>2022-07-15 13:39:17</td>\n",
       "      <td>36020.210130</td>\n",
       "      <td>36020.210130</td>\n",
       "      <td>19994.654706</td>\n",
       "      <td>50469.516741</td>\n",
       "      <td>59641</td>\n",
       "      <td>1</td>\n",
       "      <td>0.153778</td>\n",
       "    </tr>\n",
       "    <tr>\n",
       "      <th>685</th>\n",
       "      <td>2022-07-15 13:43:17</td>\n",
       "      <td>36028.582202</td>\n",
       "      <td>36028.582202</td>\n",
       "      <td>18894.176614</td>\n",
       "      <td>50716.144441</td>\n",
       "      <td>68011</td>\n",
       "      <td>1</td>\n",
       "      <td>0.254295</td>\n",
       "    </tr>\n",
       "    <tr>\n",
       "      <th>686</th>\n",
       "      <td>2022-07-15 13:45:18</td>\n",
       "      <td>36032.803121</td>\n",
       "      <td>36032.803121</td>\n",
       "      <td>19278.213754</td>\n",
       "      <td>52925.689686</td>\n",
       "      <td>58661</td>\n",
       "      <td>1</td>\n",
       "      <td>0.097770</td>\n",
       "    </tr>\n",
       "    <tr>\n",
       "      <th>687</th>\n",
       "      <td>2022-07-15 13:47:08</td>\n",
       "      <td>36036.640321</td>\n",
       "      <td>36036.640321</td>\n",
       "      <td>20098.869585</td>\n",
       "      <td>53398.612698</td>\n",
       "      <td>67677</td>\n",
       "      <td>1</td>\n",
       "      <td>0.210978</td>\n",
       "    </tr>\n",
       "    <tr>\n",
       "      <th>1491</th>\n",
       "      <td>2022-07-22 09:22:24</td>\n",
       "      <td>44569.128223</td>\n",
       "      <td>44569.128223</td>\n",
       "      <td>25926.147057</td>\n",
       "      <td>59952.477258</td>\n",
       "      <td>24808</td>\n",
       "      <td>-1</td>\n",
       "      <td>0.045072</td>\n",
       "    </tr>\n",
       "    <tr>\n",
       "      <th>1492</th>\n",
       "      <td>2022-07-22 09:24:24</td>\n",
       "      <td>44569.112315</td>\n",
       "      <td>44569.112315</td>\n",
       "      <td>27240.685916</td>\n",
       "      <td>61937.236865</td>\n",
       "      <td>24856</td>\n",
       "      <td>-1</td>\n",
       "      <td>0.095940</td>\n",
       "    </tr>\n",
       "    <tr>\n",
       "      <th>1494</th>\n",
       "      <td>2022-07-22 09:28:24</td>\n",
       "      <td>44569.080499</td>\n",
       "      <td>44569.080499</td>\n",
       "      <td>27797.880325</td>\n",
       "      <td>61355.249918</td>\n",
       "      <td>24749</td>\n",
       "      <td>-1</td>\n",
       "      <td>0.123192</td>\n",
       "    </tr>\n",
       "    <tr>\n",
       "      <th>1495</th>\n",
       "      <td>2022-07-22 09:30:24</td>\n",
       "      <td>44569.064591</td>\n",
       "      <td>44569.064591</td>\n",
       "      <td>28173.950734</td>\n",
       "      <td>61224.987335</td>\n",
       "      <td>20114</td>\n",
       "      <td>-1</td>\n",
       "      <td>0.400713</td>\n",
       "    </tr>\n",
       "    <tr>\n",
       "      <th>1496</th>\n",
       "      <td>2022-07-22 09:32:25</td>\n",
       "      <td>44569.048551</td>\n",
       "      <td>44569.048551</td>\n",
       "      <td>28156.698947</td>\n",
       "      <td>60811.916704</td>\n",
       "      <td>23173</td>\n",
       "      <td>-1</td>\n",
       "      <td>0.215065</td>\n",
       "    </tr>\n",
       "  </tbody>\n",
       "</table>\n",
       "</div>"
      ],
      "text/plain": [
       "                      ds         trend          yhat    yhat_lower  \\\n",
       "675  2022-07-15 13:25:29  35991.326482  35991.326482  20500.508749   \n",
       "676  2022-07-15 13:27:29  35995.512518  35995.512518  18951.339387   \n",
       "679  2022-07-15 13:31:17  36003.465986  36003.465986  18133.423094   \n",
       "680  2022-07-15 13:33:17  36007.652022  36007.652022  18899.857879   \n",
       "681  2022-07-15 13:35:17  36011.838058  36011.838058  18774.739125   \n",
       "682  2022-07-15 13:37:17  36016.024094  36016.024094  20070.096780   \n",
       "683  2022-07-15 13:39:17  36020.210130  36020.210130  19994.654706   \n",
       "685  2022-07-15 13:43:17  36028.582202  36028.582202  18894.176614   \n",
       "686  2022-07-15 13:45:18  36032.803121  36032.803121  19278.213754   \n",
       "687  2022-07-15 13:47:08  36036.640321  36036.640321  20098.869585   \n",
       "1491 2022-07-22 09:22:24  44569.128223  44569.128223  25926.147057   \n",
       "1492 2022-07-22 09:24:24  44569.112315  44569.112315  27240.685916   \n",
       "1494 2022-07-22 09:28:24  44569.080499  44569.080499  27797.880325   \n",
       "1495 2022-07-22 09:30:24  44569.064591  44569.064591  28173.950734   \n",
       "1496 2022-07-22 09:32:25  44569.048551  44569.048551  28156.698947   \n",
       "\n",
       "        yhat_upper   fact  anomaly  importance  \n",
       "675   53302.046471  54253        1    0.017528  \n",
       "676   53536.415590  56518        1    0.052755  \n",
       "679   53664.654425  72806        1    0.262909  \n",
       "680   52898.481748  59495        1    0.110875  \n",
       "681   51968.900169  71954        1    0.277748  \n",
       "682   53194.739013  62885        1    0.154095  \n",
       "683   50469.516741  59641        1    0.153778  \n",
       "685   50716.144441  68011        1    0.254295  \n",
       "686   52925.689686  58661        1    0.097770  \n",
       "687   53398.612698  67677        1    0.210978  \n",
       "1491  59952.477258  24808       -1    0.045072  \n",
       "1492  61937.236865  24856       -1    0.095940  \n",
       "1494  61355.249918  24749       -1    0.123192  \n",
       "1495  61224.987335  20114       -1    0.400713  \n",
       "1496  60811.916704  23173       -1    0.215065  "
      ]
     },
     "execution_count": 96,
     "metadata": {},
     "output_type": "execute_result"
    }
   ],
   "source": [
    "anomaly_df"
   ]
  }
 ],
 "metadata": {
  "kernelspec": {
   "display_name": "Python 3 (ipykernel)",
   "language": "python",
   "name": "python3"
  },
  "language_info": {
   "codemirror_mode": {
    "name": "ipython",
    "version": 3
   },
   "file_extension": ".py",
   "mimetype": "text/x-python",
   "name": "python",
   "nbconvert_exporter": "python",
   "pygments_lexer": "ipython3",
   "version": "3.9.7"
  },
  "toc": {
   "base_numbering": 1,
   "nav_menu": {},
   "number_sections": true,
   "sideBar": true,
   "skip_h1_title": false,
   "title_cell": "Table of Contents",
   "title_sidebar": "Contents",
   "toc_cell": false,
   "toc_position": {
    "height": "calc(100% - 180px)",
    "left": "10px",
    "top": "150px",
    "width": "355.792px"
   },
   "toc_section_display": true,
   "toc_window_display": true
  }
 },
 "nbformat": 4,
 "nbformat_minor": 5
}
